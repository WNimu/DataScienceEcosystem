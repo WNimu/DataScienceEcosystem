{
 "cells": [
  {
   "cell_type": "code",
   "execution_count": 1,
   "id": "16f3a162-4d6b-4924-b8e4-6fb3254a161a",
   "metadata": {},
   "outputs": [
    {
     "data": {
      "text/plain": [
       "((11, 12), [21, 25])"
      ]
     },
     "execution_count": 1,
     "metadata": {},
     "output_type": "execute_result"
    }
   ],
   "source": [
    "tupleA=((11,12),[21,25])\n",
    "tupleA"
   ]
  },
  {
   "cell_type": "code",
   "execution_count": 5,
   "id": "992a77dc-0907-45b7-a595-387c3d318071",
   "metadata": {},
   "outputs": [
    {
     "data": {
      "text/plain": [
       "('A', 'B')"
      ]
     },
     "execution_count": 5,
     "metadata": {},
     "output_type": "execute_result"
    }
   ],
   "source": [
    "V_set2=('A','B')\n",
    "V_set2"
   ]
  },
  {
   "cell_type": "code",
   "execution_count": null,
   "id": "914dbd1e-bdb6-4d2c-baab-5aadd760a38e",
   "metadata": {},
   "outputs": [],
   "source": []
  },
  {
   "cell_type": "markdown",
   "id": "83669960-c421-48de-936f-9a4101c299db",
   "metadata": {},
   "source": [
    "## Conditions and Branching"
   ]
  },
  {
   "cell_type": "markdown",
   "id": "454be6a0-eb27-4480-8c49-fec0c0e52455",
   "metadata": {},
   "source": [
    "#### Comparison Operators"
   ]
  },
  {
   "cell_type": "markdown",
   "id": "beb89ca3-4d26-4b65-a186-7428e96d1932",
   "metadata": {},
   "source": [
    "Comparison operations compare some value or operand and based on a condition, produce a Boolean. When comparing two values you can use these operators:\n",
    "\n",
    "* equal: ==\n",
    "* not equal: !=\n",
    "* greater than: >\n",
    "* less than: <\n",
    "* greater than or equal to: >=\n",
    "* less than or equal to: <="
   ]
  },
  {
   "cell_type": "markdown",
   "id": "abfbe4ed-4219-4321-9ad3-993d466bb9c9",
   "metadata": {},
   "source": [
    "Let's assign  a  a value of 5. Use the equality operator denoted with two equal == signs to determine if two values are equal. The case below compares the variable a with 6."
   ]
  },
  {
   "cell_type": "code",
   "execution_count": 1,
   "id": "a75f22f8-e32e-4b2a-a9d9-40a3373e4409",
   "metadata": {},
   "outputs": [
    {
     "data": {
      "text/plain": [
       "False"
      ]
     },
     "execution_count": 1,
     "metadata": {},
     "output_type": "execute_result"
    }
   ],
   "source": [
    "# Condition Equal\n",
    "\n",
    "a = 5\n",
    "a == 6"
   ]
  },
  {
   "cell_type": "markdown",
   "id": "bdc60625-89ad-465d-830a-6d8063d3622b",
   "metadata": {},
   "source": [
    "The result is False, as 5 does not equal to 6."
   ]
  },
  {
   "cell_type": "markdown",
   "id": "30e0b685-d7c7-4694-8fc8-0ebee4adc2ca",
   "metadata": {},
   "source": [
    "Consider the following equality comparison operator: i > 5. If the value of the left operand, in this case the variable i, is greater than the value of the right operand, in this case 5, then the statement is True. Otherwise, the statement is False. If i is equal to 6, because 6 is larger than 5, the output is True."
   ]
  },
  {
   "cell_type": "code",
   "execution_count": 2,
   "id": "1bf6738d-e0a8-4f51-8410-d077abeb3423",
   "metadata": {},
   "outputs": [
    {
     "data": {
      "text/plain": [
       "True"
      ]
     },
     "execution_count": 2,
     "metadata": {},
     "output_type": "execute_result"
    }
   ],
   "source": [
    "# Greater than Sign\n",
    "\n",
    "i = 6\n",
    "i > 5"
   ]
  },
  {
   "cell_type": "code",
   "execution_count": 3,
   "id": "dd8e49c4-633b-4056-8f3d-87081b830622",
   "metadata": {},
   "outputs": [
    {
     "data": {
      "text/plain": [
       "False"
      ]
     },
     "execution_count": 3,
     "metadata": {},
     "output_type": "execute_result"
    }
   ],
   "source": [
    "i = 2\n",
    "i > 5"
   ]
  },
  {
   "cell_type": "markdown",
   "id": "44bf42fc-c73e-4106-b329-f10e97fa6055",
   "metadata": {},
   "source": [
    "Set i = 2. The statement is False as 2 is not greater than 5:"
   ]
  },
  {
   "cell_type": "markdown",
   "id": "601fdcda-6c5a-4043-89bc-ade69d27148c",
   "metadata": {},
   "source": [
    "Let's display some values for i in the figure. Set the values greater than 5 in green and the rest in red. The green region represents where the condition is True, the red where the statement is False. If the value of i is 2, we get False as the 2 falls in the red region. Similarly, if the value for i is 6 we get a True as the condition falls in the green region."
   ]
  },
  {
   "cell_type": "markdown",
   "id": "8bd68b82-15d2-4bbb-a123-68eb588c3704",
   "metadata": {},
   "source": [
    "The inequality test uses an exclamation mark preceding the equal sign, if two operands are not equal then the condition becomes True. For example, the following condition will produce True as long as the value of i is not equal to 6:\n",
    "\n"
   ]
  },
  {
   "cell_type": "code",
   "execution_count": 4,
   "id": "bb04e14a-9d8a-4166-95aa-d68da07b66fe",
   "metadata": {},
   "outputs": [
    {
     "data": {
      "text/plain": [
       "True"
      ]
     },
     "execution_count": 4,
     "metadata": {},
     "output_type": "execute_result"
    }
   ],
   "source": [
    "# Inequality Sign\n",
    "\n",
    "i = 2\n",
    "i != 6"
   ]
  },
  {
   "cell_type": "markdown",
   "id": "8c5a08b8-7611-42ae-92d5-cf80049efe51",
   "metadata": {},
   "source": [
    "When i equals 6 the inequality expression produces False."
   ]
  },
  {
   "cell_type": "code",
   "execution_count": 5,
   "id": "df1489fb-cd06-4285-8af6-89c245676ed2",
   "metadata": {},
   "outputs": [
    {
     "data": {
      "text/plain": [
       "False"
      ]
     },
     "execution_count": 5,
     "metadata": {},
     "output_type": "execute_result"
    }
   ],
   "source": [
    "# Inequality Sign\n",
    "\n",
    "i = 6\n",
    "i != 6"
   ]
  },
  {
   "cell_type": "markdown",
   "id": "9c900f32-68f5-45a9-96ca-030271d7dc99",
   "metadata": {},
   "source": [
    "See the number line below. When the condition is **True**, the corresponding numbers are marked in green and for where the condition is **False** the corresponding number is marked in red.  If we set <code>i</code> equal to 2 the operator is true, since 2 is in the green region. If we set <code>i</code> equal to 6, we get a **False**, since the condition falls in the red region."
   ]
  },
  {
   "cell_type": "markdown",
   "id": "8b2a5154-789f-411c-943a-9da3d82ab299",
   "metadata": {},
   "source": [
    "We can apply the same methods on **strings**. For example, we can use an equality operator on two different strings. As the strings are not equal, we get a False."
   ]
  },
  {
   "cell_type": "code",
   "execution_count": 6,
   "id": "9a4b2d56-3166-4587-b956-4071ae331468",
   "metadata": {},
   "outputs": [
    {
     "data": {
      "text/plain": [
       "False"
      ]
     },
     "execution_count": 6,
     "metadata": {},
     "output_type": "execute_result"
    }
   ],
   "source": [
    "# Use Equality sign to compare the strings\n",
    "\n",
    "\"ACDC\" == \"Michael Jackson\""
   ]
  },
  {
   "cell_type": "markdown",
   "id": "4f336a39-3600-4d10-a34d-91c382c0e47f",
   "metadata": {},
   "source": [
    "If we use the inequality operator, the output is going to be True as the strings are not equal."
   ]
  },
  {
   "cell_type": "code",
   "execution_count": 7,
   "id": "d7452639-9c7f-4cff-91ab-1286b5a48da2",
   "metadata": {},
   "outputs": [
    {
     "data": {
      "text/plain": [
       "True"
      ]
     },
     "execution_count": 7,
     "metadata": {},
     "output_type": "execute_result"
    }
   ],
   "source": [
    "# Use Inequality sign to compare the strings\n",
    "\n",
    "\"ACDC\" != \"Michael Jackson\""
   ]
  },
  {
   "cell_type": "markdown",
   "id": "72e63f3a-f03f-4756-be70-f03c1174d73c",
   "metadata": {},
   "source": [
    "The inequality operation is also used to compare the letters/words/symbols according to the ASCII value of letters. The decimal value shown in the following table represents the order of the character:"
   ]
  },
  {
   "cell_type": "markdown",
   "id": "6d58cbfb-b7a6-452c-a0c7-7d57a69d37c9",
   "metadata": {},
   "source": [
    "The inequality operation is also used to compare the letters/words/symbols according to the ASCII value of letters. The decimal value shown in the following table represents the order of the character:"
   ]
  },
  {
   "cell_type": "markdown",
   "id": "36ce47b8-2093-4c2a-8260-58e494ee7c8b",
   "metadata": {},
   "source": [
    "# |Char| |ASCII| |Char| |ASCII| |Char| |ASCII| |Char| |ASCII| \n",
    "|....| |....| |....| |....| |....| |....| |....| |....| \n",
    "\n",
    "|A|\t|65| |N| |78| |a| |97| |n| |110|\n"
   ]
  },
  {
   "cell_type": "markdown",
   "id": "6fc562a7-d082-4b98-a9fc-91b10765ee35",
   "metadata": {},
   "source": [
    "For example, the ASCII code for ! is 33, while the ASCII code for + is 43. Therefore + is larger than ! as 43 is greater than 33."
   ]
  },
  {
   "cell_type": "markdown",
   "id": "2cd2c44b-26e4-4f78-be42-ceda600c899b",
   "metadata": {},
   "source": [
    "Similarly, from the table above we see that the value for A is 65, and the value for B is 66, therefore:"
   ]
  },
  {
   "cell_type": "code",
   "execution_count": 2,
   "id": "31b2fc12-58a7-4bcb-9d94-cfdc5820598f",
   "metadata": {},
   "outputs": [
    {
     "data": {
      "text/plain": [
       "True"
      ]
     },
     "execution_count": 2,
     "metadata": {},
     "output_type": "execute_result"
    }
   ],
   "source": [
    "# Compare characterWhen there are multiple letters, the first letter takes precedence in ordering:s\n",
    "\n",
    "'B' > 'A'"
   ]
  },
  {
   "cell_type": "code",
   "execution_count": 3,
   "id": "8653b5f0-7721-4e70-82f0-72d8864fe4a2",
   "metadata": {},
   "outputs": [
    {
     "data": {
      "text/plain": [
       "True"
      ]
     },
     "execution_count": 3,
     "metadata": {},
     "output_type": "execute_result"
    }
   ],
   "source": [
    "# Compare characters;'BA' > 'AB' When there are multiple letters, the first letter takes precedence in ordering:\n",
    "\n",
    "'BA' > 'AB'"
   ]
  },
  {
   "cell_type": "markdown",
   "id": "4621338e-f15c-466b-8ba7-e61f7bf343fd",
   "metadata": {},
   "source": [
    "**Note:** Upper Case Letters have different ASCII code than Lower Case Letters, which means the comparison between the letters in Python is case-sensitive."
   ]
  },
  {
   "cell_type": "code",
   "execution_count": null,
   "id": "9cdfa21a-44ee-4365-b9b7-a7eab5c894cd",
   "metadata": {},
   "outputs": [],
   "source": []
  },
  {
   "cell_type": "markdown",
   "id": "b64c7a2a-871f-4ffb-becc-e5bafbabcd97",
   "metadata": {},
   "source": [
    "##### Branching"
   ]
  },
  {
   "cell_type": "markdown",
   "id": "2192be98-188f-4669-973c-193962dccd97",
   "metadata": {},
   "source": [
    "Branching allows us to run different statements for different inputs. It is helpful to think of an if statement as a locked room, if the statement is True we can enter the room and your program will run some predefined tasks, but if the statement is False the program will ignore the task.\n",
    "\n",
    "For example, consider the blue rectangle representing an ACDC concert. If the individual is older than 18, they can enter the ACDC concert. If they are 18 or younger, they cannot enter the concert.\n",
    "\n",
    "We can use the condition statements learned before as the conditions that need to be checked in the if statement. The syntax is as simple as  if condition statement :, which contains a word if, any condition statement, and a colon at the end. Start your tasks which need to be executed under this condition in a new line with an indent. The lines of code after the colon and with an indent will only be executed when the if statement is True. The tasks will end when the line of code does not contain the indent.\n",
    "\n",
    "In the case below, the code print(“you can enter”) is executed only if the variable age is greater than 18 is a True case because this line of code has the indent. However, the execution of print(“move on”) will not be influenced by the if statement."
   ]
  },
  {
   "cell_type": "code",
   "execution_count": 4,
   "id": "a50dcff9-6b24-4e3c-b21b-2a2bb554b3f8",
   "metadata": {},
   "outputs": [
    {
     "name": "stdout",
     "output_type": "stream",
     "text": [
      "you can enter\n",
      "move on\n"
     ]
    }
   ],
   "source": [
    "# If statement example\n",
    "\n",
    "age = 19\n",
    "#age = 18\n",
    "\n",
    "#expression that can be true or false\n",
    "if age > 18:\n",
    "    \n",
    "    #within an indent, we have the expression that is run if the condition is true\n",
    "    print(\"you can enter\" )\n",
    "\n",
    "#The statements after the if statement will run regardless if the condition is true or false \n",
    "print(\"move on\")"
   ]
  },
  {
   "cell_type": "markdown",
   "id": "025a9d63-46ed-4234-9656-c07079a300d7",
   "metadata": {},
   "source": [
    "Try uncommenting the age variable"
   ]
  },
  {
   "cell_type": "markdown",
   "id": "b833584f-7940-41c0-8632-fe10ab377a32",
   "metadata": {},
   "source": [
    "It is helpful to use the following diagram to illustrate the process. On the left side, we see what happens when the condition is True. The person enters the ACDC concert representing the code in the indent being executed; they then move on. On the right side, we see what happens when the condition is False; the person is not granted access, and the person moves on. In this case, the segment of code in the indent does not run, but the rest of the statements are run."
   ]
  },
  {
   "cell_type": "markdown",
   "id": "9360e686-e96b-4334-9fd6-75cf3eef4371",
   "metadata": {},
   "source": [
    "Diagram here"
   ]
  },
  {
   "cell_type": "markdown",
   "id": "c7502b36-97ce-42dd-bc85-624a79e355f0",
   "metadata": {},
   "source": [
    "The else statement runs a block of code if none of the conditions are True before this else statement. Let's use the ACDC concert analogy again. If the user is 17 they cannot go to the ACDC concert, but they can go to the Meatloaf concert. The syntax of the else statement is similar as the syntax of the if statement, as else :. Notice that, there is no condition statement for else. Try changing the values of age to see what happens:"
   ]
  },
  {
   "cell_type": "code",
   "execution_count": 5,
   "id": "64f9e5d3-20b9-49a6-b80d-c67704b6e43d",
   "metadata": {},
   "outputs": [
    {
     "name": "stdout",
     "output_type": "stream",
     "text": [
      "go see Meat Loaf\n",
      "move on\n"
     ]
    }
   ],
   "source": [
    "# Else statement example\n",
    "\n",
    "age = 18\n",
    "# age = 19\n",
    "\n",
    "if age > 18:\n",
    "    print(\"you can enter\" )\n",
    "else:\n",
    "    print(\"go see Meat Loaf\" )\n",
    "    \n",
    "print(\"move on\")"
   ]
  },
  {
   "cell_type": "markdown",
   "id": "b1edeb7a-b6c5-4e11-a1ac-62cad5c207f7",
   "metadata": {},
   "source": [
    "The process is demonstrated below, where each of the possibilities is illustrated on each side of the image. On the left is the case where the age is 17, we set the variable age to 17, and this corresponds to the individual attending the Meatloaf concert. The right portion shows what happens when the individual is over 18, in this case 19, and the individual is granted access to the concert."
   ]
  },
  {
   "cell_type": "markdown",
   "id": "2a2e28e3-52e5-4ee9-9f4a-eb42f07524ea",
   "metadata": {},
   "source": [
    "Diagram here"
   ]
  },
  {
   "cell_type": "markdown",
   "id": "f89f7a4a-cf65-451b-8a61-027b298db64e",
   "metadata": {},
   "source": [
    "The elif statement, short for else if, allows us to check additional conditions if the condition statements before it are False. If the condition for the elif statement is True, the alternate expressions will be run. Consider the concert example, where if the individual is 18 they will go to the Pink Floyd concert instead of attending the ACDC or Meat-loaf concert. A person that is 18 years of age enters the area, and as they are not older than 18 they can not see ACDC, but since they are 18 years of age, they attend Pink Floyd. After seeing Pink Floyd, they move on. The syntax of the elif statement is similar in that we merely change the if in the if statement to elif."
   ]
  },
  {
   "cell_type": "code",
   "execution_count": 6,
   "id": "b9bbef46-428e-40ab-8b56-ec5aec5364e0",
   "metadata": {},
   "outputs": [
    {
     "name": "stdout",
     "output_type": "stream",
     "text": [
      "go see Pink Floyd\n",
      "move on\n"
     ]
    }
   ],
   "source": [
    "# Elif statment example\n",
    "\n",
    "age = 18\n",
    "\n",
    "if age > 18:\n",
    "    print(\"you can enter\" )\n",
    "elif age == 18:\n",
    "    print(\"go see Pink Floyd\")\n",
    "else:\n",
    "    print(\"go see Meat Loaf\" )\n",
    "    \n",
    "print(\"move on\")"
   ]
  },
  {
   "cell_type": "markdown",
   "id": "1454a9e6-4764-41a6-9740-0733a2534578",
   "metadata": {},
   "source": [
    "Diagram here"
   ]
  },
  {
   "cell_type": "code",
   "execution_count": 11,
   "id": "463297a2-4430-4e9f-aef1-cde60a14b1ed",
   "metadata": {},
   "outputs": [
    {
     "name": "stdout",
     "output_type": "stream",
     "text": [
      "do something..\n"
     ]
    }
   ],
   "source": [
    "# Condition statement example\n",
    "\n",
    "album_year = 1983\n",
    "album_year = 1970\n",
    "\n",
    "if album_year > 1980:\n",
    "    print(\"Album year is greater than 1980\")\n",
    "    \n",
    "print('do something..')"
   ]
  },
  {
   "cell_type": "markdown",
   "id": "85a798e2-4cb4-4380-8ab9-cae4c48a0f92",
   "metadata": {},
   "source": [
    "Feel free to change album_year value to other values -- you'll see that the result changes!\n",
    "\n",
    "Notice that the code in the above indented block will only be executed if the results are True.\n",
    "\n",
    "As before, we can add an else block to the if block. The code in the else block will only be executed if the result is False.\n",
    "\n",
    "Syntax:\n",
    "\n",
    "if (condition): # do something else: # do something else\n",
    "\n",
    "If the condition in the if statement is False, the statement after the else block will execute. This is demonstrated in the figure:"
   ]
  },
  {
   "cell_type": "code",
   "execution_count": 13,
   "id": "9f3d4542-cd6f-4b72-bf88-1da5f18869f4",
   "metadata": {},
   "outputs": [
    {
     "name": "stdout",
     "output_type": "stream",
     "text": [
      "Album year is greater than 1980\n",
      "do something..\n"
     ]
    }
   ],
   "source": [
    "# Condition statement example\n",
    "\n",
    "album_year = 1983\n",
    "#album_year = 1970\n",
    "\n",
    "if album_year > 1980:\n",
    "    print(\"Album year is greater than 1980\")\n",
    "else:\n",
    "    print(\"less than 1980\")\n",
    "\n",
    "print('do something..')"
   ]
  },
  {
   "cell_type": "markdown",
   "id": "ad167a55-9f6b-4268-8337-f1f54dca78c7",
   "metadata": {},
   "source": [
    "Feel free to change the album_year value to other values -- you'll see that the result changes based on it!"
   ]
  },
  {
   "cell_type": "markdown",
   "id": "d0bd5bc4-0a06-451c-b702-54b62637a1ed",
   "metadata": {},
   "source": [
    "##### Logical operators"
   ]
  },
  {
   "cell_type": "markdown",
   "id": "62204ed9-086e-4071-8884-e1646a129a14",
   "metadata": {},
   "source": [
    "Sometimes you want to check more than one condition at once. For example, you might want to check if one condition and another condition are both True. Logical operators allow you to combine or modify conditions.\n",
    "\n",
    "and\n",
    "or\n",
    "not\n",
    "These operators are summarized for two variables using the following truth tables:"
   ]
  },
  {
   "cell_type": "markdown",
   "id": "78edbc35-00d8-4b78-9fcf-1e3c583eddfe",
   "metadata": {},
   "source": [
    "Diagram here"
   ]
  },
  {
   "cell_type": "markdown",
   "id": "34a93c0b-f6d8-40c1-8420-24239c43e766",
   "metadata": {},
   "source": [
    "The and statement is only True when both conditions are true. The or statement is True if one condition, or both are True. The not statement outputs the opposite truth value.\n",
    "\n",
    "Let's see how to determine if an album was released after 1979 (1979 is not included) and before 1990 (1990 is not included). The time periods between 1980 and 1989 satisfy this condition. This is demonstrated in the figure below. The green on lines a and b represents periods where the statement is True. The green on line c represents where both conditions are True, this corresponds to where the green regions overlap."
   ]
  },
  {
   "cell_type": "markdown",
   "id": "d3101a82-9d1a-41e4-9fe2-44081932d507",
   "metadata": {},
   "source": [
    "Diagram here"
   ]
  },
  {
   "cell_type": "markdown",
   "id": "3384f88d-2a33-4047-929d-2b82da7582b7",
   "metadata": {},
   "source": [
    "The block of code to perform this check is given by:"
   ]
  },
  {
   "cell_type": "code",
   "execution_count": 14,
   "id": "b3ec2c1c-2833-4a2d-91a4-bcafae0c7075",
   "metadata": {},
   "outputs": [
    {
     "name": "stdout",
     "output_type": "stream",
     "text": [
      "Album year was in between 1980 and 1989\n",
      "\n",
      "Do Stuff..\n"
     ]
    }
   ],
   "source": [
    "# Condition statement example\n",
    "\n",
    "album_year = 1980\n",
    "\n",
    "if(album_year > 1979) and (album_year < 1990):\n",
    "    print (\"Album year was in between 1980 and 1989\")\n",
    "    \n",
    "print(\"\")\n",
    "print(\"Do Stuff..\")"
   ]
  },
  {
   "cell_type": "markdown",
   "id": "365ca018-6ccb-400c-a135-52ae02948a85",
   "metadata": {},
   "source": [
    "To determine if an album was released before 1980 (1979 and earlier) or after 1989 (1990 and onward ), an or statement can be used. Periods before 1980 (1979 and earlier) or after 1989 (1990 and onward) satisfy this condition. This is demonstrated in the following figure, the color green in a and b represents periods where the statement is true. The color green in c represents where at least one of the conditions are true."
   ]
  },
  {
   "cell_type": "markdown",
   "id": "5406ed28-f8eb-4450-be37-2f5fd5a41fdf",
   "metadata": {},
   "source": [
    "Diagram here"
   ]
  },
  {
   "cell_type": "markdown",
   "id": "d09d561f-b40d-499a-8857-4b7eefc1d9d3",
   "metadata": {},
   "source": [
    "The block of code to perform this check is given by:"
   ]
  },
  {
   "cell_type": "code",
   "execution_count": 15,
   "id": "13ff24aa-5c4b-4de5-924c-933759bc607f",
   "metadata": {},
   "outputs": [
    {
     "name": "stdout",
     "output_type": "stream",
     "text": [
      "Album was not made in the 1980's\n"
     ]
    }
   ],
   "source": [
    "# Condition statement example\n",
    "\n",
    "album_year = 1990\n",
    "\n",
    "if(album_year < 1980) or (album_year > 1989):\n",
    "    print (\"Album was not made in the 1980's\")\n",
    "else:\n",
    "    print(\"The Album was made in the 1980's \")"
   ]
  },
  {
   "cell_type": "markdown",
   "id": "86e36b05-be30-4cf1-b258-00ca8a8dc3ca",
   "metadata": {},
   "source": [
    "The not statement checks if the statement is false:"
   ]
  },
  {
   "cell_type": "code",
   "execution_count": 16,
   "id": "e20bb658-70e4-4a26-a5a1-3c09eab74e5b",
   "metadata": {},
   "outputs": [
    {
     "name": "stdout",
     "output_type": "stream",
     "text": [
      "Album year is not 1984\n"
     ]
    }
   ],
   "source": [
    "# Condition statement example\n",
    "\n",
    "album_year = 1983\n",
    "\n",
    "if not (album_year == 1984):\n",
    "    print (\"Album year is not 1984\")"
   ]
  },
  {
   "cell_type": "code",
   "execution_count": null,
   "id": "157cb82f-0c5b-47d1-a0d2-ea7b8ecc43d9",
   "metadata": {},
   "outputs": [],
   "source": []
  },
  {
   "cell_type": "markdown",
   "id": "002f1b31-0fcd-4179-a399-c50b1e49d1e0",
   "metadata": {},
   "source": [
    "Write an if statement to determine if an album had a rating greater than 8. Test it using the rating for the album “Back in Black” that had a rating of 8.5. If the statement is true print \"This album is Amazing!\""
   ]
  },
  {
   "cell_type": "code",
   "execution_count": 17,
   "id": "ffcba6a6-48b1-45a1-bdaf-cb8dd369a197",
   "metadata": {},
   "outputs": [
    {
     "name": "stdout",
     "output_type": "stream",
     "text": [
      "This album is Amazing!\n"
     ]
    }
   ],
   "source": [
    "rating = 8.5\n",
    "if rating > 8:\n",
    "    print (\"This album is Amazing!\")"
   ]
  },
  {
   "cell_type": "markdown",
   "id": "7f42a15c-81f7-4dd7-a994-4dc1ab72d225",
   "metadata": {},
   "source": [
    "Write an if-else statement that performs the following. If the rating is larger then eight print “this album is amazing”. If the rating is less than or equal to 8 print “this album is ok”."
   ]
  },
  {
   "cell_type": "code",
   "execution_count": 18,
   "id": "227a6131-b08c-4a11-a53f-94567a5853ca",
   "metadata": {},
   "outputs": [
    {
     "name": "stdout",
     "output_type": "stream",
     "text": [
      "this album is amazing\n"
     ]
    }
   ],
   "source": [
    "rating = 8.5\n",
    "if rating > 8:\n",
    "    print (\"this album is amazing\")\n",
    "else:\n",
    "    print (\"this album is ok\")"
   ]
  },
  {
   "cell_type": "markdown",
   "id": "c9c9b35c-818d-4a20-b163-d97da89a63e0",
   "metadata": {},
   "source": [
    "Write an if statement to determine if an album came out before 1980 or in the years: 1991 or 1993. If the condition is true print out the year the album came out."
   ]
  },
  {
   "cell_type": "code",
   "execution_count": 19,
   "id": "9df16999-f1ef-4a82-819a-dd165b6ac34d",
   "metadata": {},
   "outputs": [
    {
     "name": "stdout",
     "output_type": "stream",
     "text": [
      "This album came out in year 1979\n"
     ]
    }
   ],
   "source": [
    "album_year = 1979\n",
    "\n",
    "if album_year < 1980 or album_year == 1991 or album_year == 1993:\n",
    "    print(\"This album came out in year\", album_year)"
   ]
  },
  {
   "cell_type": "code",
   "execution_count": null,
   "id": "785a7fef-2e9c-42b4-9d0e-0e58c12b1411",
   "metadata": {},
   "outputs": [],
   "source": []
  },
  {
   "cell_type": "code",
   "execution_count": 28,
   "id": "27d9e7cd-ea1c-42a2-8828-4175423a1095",
   "metadata": {},
   "outputs": [
    {
     "ename": "SyntaxError",
     "evalue": "cannot assign to literal here. Maybe you meant '==' instead of '='? (1758230620.py, line 2)",
     "output_type": "error",
     "traceback": [
      "\u001b[1;36m  Cell \u001b[1;32mIn[28], line 2\u001b[1;36m\u001b[0m\n\u001b[1;33m    1=2\u001b[0m\n\u001b[1;37m    ^\u001b[0m\n\u001b[1;31mSyntaxError\u001b[0m\u001b[1;31m:\u001b[0m cannot assign to literal here. Maybe you meant '==' instead of '='?\n"
     ]
    }
   ],
   "source": [
    "# What is the outcome of the following? 1=2\n",
    "1=2"
   ]
  },
  {
   "cell_type": "markdown",
   "id": "9f884508-2b2f-4606-9a57-bf25b3f50b15",
   "metadata": {},
   "source": [
    "“SyntaxError: can't assign to literal” error occurs when you try to assign a value to a literal value such as a boolean, a string, a list, or a number. To solve this error, ensure your variable names are names rather than values."
   ]
  },
  {
   "cell_type": "code",
   "execution_count": 29,
   "id": "5dc43421-00a8-4915-b2df-17ae82793b8a",
   "metadata": {},
   "outputs": [
    {
     "data": {
      "text/plain": [
       "False"
      ]
     },
     "execution_count": 29,
     "metadata": {},
     "output_type": "execute_result"
    }
   ],
   "source": [
    "# What is the output of the following code segment?\n",
    "\n",
    "i=6\n",
    "\n",
    "i<5"
   ]
  },
  {
   "cell_type": "code",
   "execution_count": 32,
   "id": "03820a6a-de3d-4759-95da-012946b8a5df",
   "metadata": {},
   "outputs": [
    {
     "data": {
      "text/plain": [
       "False"
      ]
     },
     "execution_count": 32,
     "metadata": {},
     "output_type": "execute_result"
    }
   ],
   "source": [
    "# True or False. The equality operator is case-sensitive in the following code segment. The operator is case sensitive hence true\n",
    "\n",
    "'a'=='A' "
   ]
  },
  {
   "cell_type": "markdown",
   "id": "1c407e92-80d7-4619-962e-edf2afd5421b",
   "metadata": {},
   "source": [
    "Which of the following best describes the purpose of ‘elif’ statement in a conditional structure?\n",
    "It defines the condition in case the preceding conditions in the if statement are not fulfilled."
   ]
  },
  {
   "cell_type": "code",
   "execution_count": null,
   "id": "4e16dd71-76e0-4513-8542-46f0b10d6e98",
   "metadata": {},
   "outputs": [],
   "source": []
  },
  {
   "cell_type": "markdown",
   "id": "41609f24-cff9-44db-8857-85379cae42b5",
   "metadata": {},
   "source": [
    "## Loops"
   ]
  },
  {
   "cell_type": "code",
   "execution_count": 2,
   "id": "030edc84-99c8-490a-8fde-123ddca13794",
   "metadata": {},
   "outputs": [
    {
     "data": {
      "text/plain": [
       "['red', 'orange', 'yellow', 'green', 'blue', 'indigo', 'violet']"
      ]
     },
     "execution_count": 2,
     "metadata": {},
     "output_type": "execute_result"
    }
   ],
   "source": [
    "colors = [\"red\", \"orange\", \"yellow\", \"green\", \"blue\", \"indigo\", \"violet\"]\n",
    "colors"
   ]
  },
  {
   "cell_type": "code",
   "execution_count": 4,
   "id": "658da5be-ace7-4e4d-b677-f61e059a090c",
   "metadata": {},
   "outputs": [
    {
     "name": "stdout",
     "output_type": "stream",
     "text": [
      "red\n"
     ]
    }
   ],
   "source": [
    "# for color in colors, print(color)\n",
    "\n",
    "print('red')"
   ]
  },
  {
   "cell_type": "markdown",
   "id": "386cd725-4cad-4dfc-8364-7ff194629d41",
   "metadata": {},
   "source": [
    "Here is how you might use a for loop to count from 1 to 10. Here, the range(1, 11) generates a sequence from 1 to 10, and the for loop goes through each number in that sequence, printing it out. It's like taking 10 steps, and you're guided by the loop!"
   ]
  },
  {
   "cell_type": "code",
   "execution_count": 7,
   "id": "fd4f6e10-5bbc-4689-af36-69b5010453da",
   "metadata": {},
   "outputs": [
    {
     "data": {
      "text/plain": [
       "['1', '2', '3', '4', '5', '6', '7', '8', '9', '10', '11']"
      ]
     },
     "execution_count": 7,
     "metadata": {},
     "output_type": "execute_result"
    }
   ],
   "source": [
    "# for number in range(1, 11):\n",
    "Numbers=[\"1\", \"2\", \"3\", \"4\", \"5\", \"6\", \"7\", \"8\", \"9\", \"10\", \"11\"]\n",
    "Numbers"
   ]
  },
  {
   "cell_type": "code",
   "execution_count": 14,
   "id": "40b98c8d-b64a-4ec3-a55b-bd270bcfd215",
   "metadata": {},
   "outputs": [
    {
     "name": "stdout",
     "output_type": "stream",
     "text": [
      "['4', '5', '6', '7', '8']\n"
     ]
    }
   ],
   "source": [
    "print(Numbers[3:8])"
   ]
  },
  {
   "cell_type": "code",
   "execution_count": 18,
   "id": "8af10c79-bcc1-4f1d-9683-41d032e0fdfd",
   "metadata": {},
   "outputs": [
    {
     "name": "stdout",
     "output_type": "stream",
     "text": [
      "['1', '2', '3', '4', '5', '6', '7', '8']\n"
     ]
    }
   ],
   "source": [
    "print(Numbers[:8])"
   ]
  },
  {
   "cell_type": "markdown",
   "id": "d11a21c6-2dce-4b19-8f26-a4a77155ec3b",
   "metadata": {},
   "source": [
    "* The range function in Python generates an ordered sequence that can be used in loops. It takes one or two arguments:\n",
    "* If given one argument (e.g., range(11)), it generates a sequence starting from 0 up to (but not including) the given number.\n",
    "  for number in range(11):\r\n",
    "    print(number)\n",
    "* If given two arguments (e.g., range(1, 11)), it generates a sequence starting from the first argument up to (but not including) the second argument\n",
    "    for number in range(1, 11):\r\n",
    "    print(number)."
   ]
  },
  {
   "cell_type": "markdown",
   "id": "aebfb111-81f8-431b-994f-72ae0c593e3a",
   "metadata": {},
   "source": [
    "**The Enumerated For Loop.**\n",
    "Have you ever needed to keep track of both the item and its position in a list? An enumerated for loop comes to your rescue. It's like having a personal assistant who not only hands you the item but also tells you where to find it."
   ]
  },
  {
   "cell_type": "code",
   "execution_count": 19,
   "id": "e51d0ded-0928-433f-994e-d0b6468da26d",
   "metadata": {},
   "outputs": [
    {
     "data": {
      "text/plain": [
       "['apple', 'banana', 'orange']"
      ]
     },
     "execution_count": 19,
     "metadata": {},
     "output_type": "execute_result"
    }
   ],
   "source": [
    "fruits = [\"apple\", \"banana\", \"orange\"]\n",
    "fruits"
   ]
  },
  {
   "cell_type": "code",
   "execution_count": 21,
   "id": "16f08ca8-756c-4559-8fee-0e151ba0d0a0",
   "metadata": {},
   "outputs": [
    {
     "name": "stdout",
     "output_type": "stream",
     "text": [
      "At position 2, I found a ['apple', 'banana', 'orange']\n"
     ]
    }
   ],
   "source": [
    "print(f\"At position {2}, I found a {fruits}\")"
   ]
  },
  {
   "cell_type": "markdown",
   "id": "abeaf9bd-0ca5-400d-a5c1-1059857bb6e7",
   "metadata": {},
   "source": [
    "**While loops** are like a sleepless night at a friend's sleepover. Imagine you and your friends keep telling ghost stories until someone decides it's time to sleep. As long as no one says, \"Let's sleep\" you keep telling stories.\n",
    "A while loop works similarly - it repeats a task as long as a certain condition is true. It's like saying, \"Hey computer, keep doing this until I say stop!\""
   ]
  },
  {
   "cell_type": "markdown",
   "id": "bf8c9201-870d-4ca3-b82f-d2d3670aaba1",
   "metadata": {},
   "source": [
    "While condition:\n",
    " * Code to be executed while the condition is true\n",
    " * Indentation is crucial to indicate the scope of the loop"
   ]
  },
  {
   "cell_type": "markdown",
   "id": "0db3616c-256b-45de-b162-50d224ccecfb",
   "metadata": {},
   "source": [
    "Here's how you might use a while loop to count from 1 to 10:\n",
    " * count = 1\n",
    "while count <= 10:\n",
    "    print(count)\n",
    "    count += 1\n",
    "* here's a breakdown of the above code:\r\n",
    "* \r\n",
    "There is a variable named count initialized with the value \n",
    "* \r\n",
    "\r\n",
    "The while loop is used to repeatedly execute a block of code as long as a given condition is True. In this case, the condition is count <= 10, meaning the loop will continue as long as count is less than or equal to * 0.\r",
    "ide the loop:    oop:\r\n",
    "\r\n",
    "The print(count) statement outputs the current value of the count v\n",
    "  iable.\r\n",
    "\r\n",
    "The count += 1 statement increments the value of count by 1. This step ensures that the loop will eventually terminate when count becomes greater* than 10.\r\n",
    "\r\n",
    "The loop will continue executing as long as the condition count <= 10 is* satisfied.\r\n",
    "\r\n",
    "The loop will print the numbers 1 to 10 in consecutive order since the print statement is inside the loop block and executed during ea* h iteration.\r\n",
    "\r\n",
    "Once count reaches 11, the condition count <= 10 will evaluate to False, and the loop * ill terminate.\r\n",
    "\r\n",
    "The output of the code will be the numbers 1 to 10, each printed on a separate line."
   ]
  },
  {
   "cell_type": "markdown",
   "id": "10cd4974-c78b-47cb-a674-661ee5fecdc0",
   "metadata": {},
   "source": [
    "The Loop Flow:\n",
    "*Both for and while loops have their special moves, but they follow a pattern: \n",
    " * Initialization: You set up things like a starting point or conditions.\n",
    " * Condition: You decide when the loop should keep going and when it should stop.\n",
    " * Execution: You do the task inside the loop.\n",
    " * Update: You make changes to your starting point or conditions to move forward.\n",
    " * Repeat: The loop goes back to step 2 until the condition is no longer true."
   ]
  },
  {
   "cell_type": "markdown",
   "id": "bd79c227-8999-4d3b-a664-fed4107da529",
   "metadata": {},
   "source": [
    "When to Use Each:\n",
    "* **For Loops**: Use for loops when you know the number of iterations in advance and want to process each element in a sequence. They are best suited for iterating over collections and sequences where the length is known.\n",
    "\n",
    "* **While Loops**: Use while loops when you need to perform a task repeatedly as long as a certain condition holds true. While loops are particularly useful for situations where the number of iterations is uncertain or where you're waiting for a specific condition to be met."
   ]
  },
  {
   "cell_type": "code",
   "execution_count": null,
   "id": "069603f5-1800-4acd-92df-7c5eaada6725",
   "metadata": {},
   "outputs": [],
   "source": []
  },
  {
   "cell_type": "markdown",
   "id": "9e105a65-1b5e-45ae-a425-0655960dec2d",
   "metadata": {},
   "source": [
    "## Loops-Part 2"
   ]
  },
  {
   "cell_type": "markdown",
   "id": "cb68cea4-757e-4aab-975f-e55fb52aa133",
   "metadata": {},
   "source": [
    "**Range**\n",
    "\n",
    "* Sometimes, you might want to repeat a given operation many times. Repeated executions like this are performed by loops. We will look at two types of loops, for loops and while loops.\n",
    "* Before we discuss loops lets discuss the range object. It is helpful to think of the range object as an ordered list. For now, let's look at the simplest case. If we would like to generate an object that contains elements ordered from 0 to 2 we simply use the following command:"
   ]
  },
  {
   "cell_type": "code",
   "execution_count": 28,
   "id": "0ed87446-774e-415f-a874-44de3b57da7b",
   "metadata": {},
   "outputs": [
    {
     "data": {
      "text/plain": [
       "range(0, 3)"
      ]
     },
     "execution_count": 28,
     "metadata": {},
     "output_type": "execute_result"
    }
   ],
   "source": [
    "# Use the range\n",
    "range(3)"
   ]
  },
  {
   "cell_type": "markdown",
   "id": "0e03c7e0-c622-4b52-bcdf-73f413942ae0",
   "metadata": {},
   "source": [
    "What is **for loop**?\n",
    "The for loop enables you to execute a code block multiple times. For example, you would use this if you would like to print out every element in a list.\r\n",
    "Let's try to use a for loop to print all the years presented in the list dates"
   ]
  },
  {
   "cell_type": "code",
   "execution_count": 29,
   "id": "6c76bade-5972-4a61-bf1f-bf5ee0665159",
   "metadata": {},
   "outputs": [
    {
     "name": "stdout",
     "output_type": "stream",
     "text": [
      "1982\n",
      "1980\n",
      "1973\n"
     ]
    }
   ],
   "source": [
    "# For loop example\n",
    "\n",
    "dates = [1982,1980,1973]\n",
    "N = len(dates)\n",
    "\n",
    "for i in range(N):\n",
    "    print(dates[i])     "
   ]
  },
  {
   "cell_type": "markdown",
   "id": "d2a42cde-8851-4dd1-8708-43768042ce7e",
   "metadata": {},
   "source": [
    "The code in the indent is executed N times, each time the value of i is increased by 1 for every execution. The statement executed is to print out the value in the list at index i as shown here:"
   ]
  },
  {
   "cell_type": "markdown",
   "id": "ee77b416-2adc-4ebb-bd65-cb7d556535d5",
   "metadata": {},
   "source": [
    "In this example we can print out a sequence of numbers from 0 to 7"
   ]
  },
  {
   "cell_type": "code",
   "execution_count": 30,
   "id": "4b3b9edd-f300-402b-87a5-c3d54049edb1",
   "metadata": {},
   "outputs": [
    {
     "name": "stdout",
     "output_type": "stream",
     "text": [
      "0\n",
      "1\n",
      "2\n",
      "3\n",
      "4\n",
      "5\n",
      "6\n",
      "7\n"
     ]
    }
   ],
   "source": [
    "# Example of for loop\n",
    "\n",
    "for i in range(0, 8):\n",
    "    print(i)"
   ]
  },
  {
   "cell_type": "code",
   "execution_count": 38,
   "id": "c67d725c-932b-4ff3-994d-787a8dd0fdd3",
   "metadata": {},
   "outputs": [
    {
     "name": "stdout",
     "output_type": "stream",
     "text": [
      "Before square  0 is red\n",
      "After square  0 is white\n",
      "Before square  1 is yellow\n",
      "After square  1 is white\n",
      "Before square  2 is green\n",
      "After square  2 is white\n",
      "Before square  3 is purple\n",
      "After square  3 is white\n",
      "Before square  4 is blue\n",
      "After square  4 is white\n"
     ]
    }
   ],
   "source": [
    "# Use for loop to change the elements in list\n",
    "\n",
    "squares = ['red', 'yellow', 'green', 'purple', 'blue']\n",
    "\n",
    "for i in range(0, 5):\n",
    "    print(\"Before square \", i, 'is',  squares[i])\n",
    "    squares[i] = 'white'\n",
    "    print(\"After square \", i, 'is',  squares[i])"
   ]
  },
  {
   "cell_type": "markdown",
   "id": "ef7a5715-8e9a-4178-a07d-8c6ba4d4f2db",
   "metadata": {},
   "source": [
    "We can access the index and the elements of a list as follows"
   ]
  },
  {
   "cell_type": "code",
   "execution_count": 39,
   "id": "93686b08-f775-429f-a77e-fea25ec48599",
   "metadata": {},
   "outputs": [
    {
     "name": "stdout",
     "output_type": "stream",
     "text": [
      "0 red\n",
      "1 yellow\n",
      "2 green\n",
      "3 purple\n",
      "4 blue\n"
     ]
    }
   ],
   "source": [
    "# Loop through the list and iterate on both index and element value\n",
    "\n",
    "squares=['red', 'yellow', 'green', 'purple', 'blue']\n",
    "\n",
    "for i, square in enumerate(squares):\n",
    "    print(i, square)"
   ]
  },
  {
   "cell_type": "code",
   "execution_count": null,
   "id": "a7a7a3dc-499a-4272-bb45-aaf1c8ccd9b3",
   "metadata": {},
   "outputs": [],
   "source": []
  },
  {
   "cell_type": "markdown",
   "id": "2aaeaf78-8827-484b-9db0-3e178db6173a",
   "metadata": {},
   "source": [
    "What is **while loop**?"
   ]
  },
  {
   "cell_type": "markdown",
   "id": "2585d618-7f92-4dc1-ab25-d50baf0e52c9",
   "metadata": {},
   "source": [
    "As you can see, the **for loop** is used for a controlled flow of repetition. However, what if we don't know when we want to stop the loop? What if we want to keep executing a code block until a certain condition is met? The **while loop** exists as a tool for repeated execution based on a condition. The code block will keep being executed until the given logical condition returns a **False** boolean value."
   ]
  },
  {
   "cell_type": "markdown",
   "id": "e0785ee3-0742-42d1-9197-41fc94dccc8d",
   "metadata": {},
   "source": [
    "Here's how a while loop works: \n",
    "* First, you specify a condition that the loop will check before each iteration (repetition) of the code block.\n",
    "* If the condition is initially true, the code block is executed.\n",
    "* After executing the code block, the condition is checked again.\n",
    "* If the condition is still true, the code block is executed again.\n",
    "* Steps 3 and 4 repeat until the condition becomes false.\n",
    "* Once the condition becomes false, the loop stops, and the program continues with the next line of code after the loop."
   ]
  },
  {
   "cell_type": "markdown",
   "id": "f533aecb-629e-421e-89d7-ceaf658a27ba",
   "metadata": {},
   "source": [
    "Here's an example of a while loop that prints numbers from 1 to 5"
   ]
  },
  {
   "cell_type": "code",
   "execution_count": 40,
   "id": "10451936-f0f9-43a8-8253-088c84875b8c",
   "metadata": {},
   "outputs": [
    {
     "name": "stdout",
     "output_type": "stream",
     "text": [
      "1\n",
      "2\n",
      "3\n",
      "4\n",
      "5\n"
     ]
    }
   ],
   "source": [
    "count = 1\n",
    "while count <= 5:\n",
    "    print(count)\n",
    "    count += 1"
   ]
  },
  {
   "cell_type": "markdown",
   "id": "b4a47478-9b82-4b26-b07f-caea4a6adab7",
   "metadata": {},
   "source": [
    "In this example, the condition count <= 5 is checked before each iteration. As long as count is less than or equal to 5, the code block inside the loop is executed. After each iteration, the value of count is incremented by 1 using count += 1. Once count reaches 6, the condition becomes false, and the loop stops."
   ]
  },
  {
   "cell_type": "markdown",
   "id": "cb305bc3-2d8b-4d86-a17a-0d5aa33a2a49",
   "metadata": {},
   "source": [
    "Let’s say we would like to iterate through list dates and stop at the year 1973, then print out the number of iterations. This can be done with the following block of code:"
   ]
  },
  {
   "cell_type": "code",
   "execution_count": 41,
   "id": "76d0833c-ac66-422f-9f34-2f13f1e84033",
   "metadata": {},
   "outputs": [
    {
     "name": "stdout",
     "output_type": "stream",
     "text": [
      "1982\n",
      "1980\n",
      "It took  2 repetitions to get out of loop.\n"
     ]
    }
   ],
   "source": [
    "# While Loop Example\n",
    "\n",
    "dates = [1982, 1980, 1973, 2000]\n",
    "\n",
    "i = 0\n",
    "year = dates[0]\n",
    "\n",
    "while(year != 1973):    \n",
    "    print(year)\n",
    "    i = i + 1\n",
    "    year = dates[i]\n",
    "    \n",
    "\n",
    "print(\"It took \", i ,\"repetitions to get out of loop.\")"
   ]
  },
  {
   "cell_type": "markdown",
   "id": "d2a5f28a-a788-4bde-a8fe-295ee58d8cd4",
   "metadata": {},
   "source": [
    "A while loop iterates merely until the condition in the argument is not met, as shown in the following figure:"
   ]
  },
  {
   "cell_type": "markdown",
   "id": "5c2aa406-22c9-4b70-aed9-3fd86a3e8718",
   "metadata": {},
   "source": [
    "**The main difference between a while loop and a for loop in Python is how they control the flow of execution and handle iterations.**"
   ]
  },
  {
   "cell_type": "markdown",
   "id": "27a0d22a-a260-44c0-9903-9f9e55c34581",
   "metadata": {},
   "source": [
    "**Key points of For Loop**\n",
    "1. A for loop iterates over a sequence (such as a list, string, or range) or any object that supports iteration.\n",
    "2. It has a predefined number of iterations based on the length of the sequence or the number of items to iterate over.\n",
    "3. It automatically handles the iteration and does not require maintaining a separate variable for tracking the iteration count.\n",
    "4. It simplifies the code by encapsulating the iteration logic within the loop itself.\n",
    "5. It is commonly used when you know the exact number of iterations or need to iterate over each item in a collection."
   ]
  },
  {
   "cell_type": "markdown",
   "id": "0310ef14-747d-43b6-ab7f-f03691ca8112",
   "metadata": {},
   "source": [
    "**Key points of While Loop**\n",
    "1. A while loop repeatedly executes a block of code as long as a given condition is true.\n",
    "2. It does not have a fixed number of iterations but continues executing until the condition becomes false\n",
    "3. he condition is checked before each iteration, and if it's false initially, the code block is skipped entirely\n",
    "4. The condition is typically based on a variable or expression that can change during the execution of the loop\n",
    "5. It provides more flexibility in terms of controlling the loop's execution based on dynamic conditions.s."
   ]
  },
  {
   "cell_type": "code",
   "execution_count": null,
   "id": "3f379602-0b1d-4104-be03-991cf4ade277",
   "metadata": {},
   "outputs": [],
   "source": []
  },
  {
   "cell_type": "code",
   "execution_count": 42,
   "id": "2ea73126-58d5-4c17-be31-ea8398d4d92b",
   "metadata": {},
   "outputs": [
    {
     "name": "stdout",
     "output_type": "stream",
     "text": [
      "-4\n",
      "-3\n",
      "-2\n",
      "-1\n",
      "0\n",
      "1\n",
      "2\n",
      "3\n",
      "4\n"
     ]
    }
   ],
   "source": [
    "# Write a for loop that prints out all the element between -5 and 5 using the range function.\n",
    "for i in range(-4, 5):\n",
    "    print(i)"
   ]
  },
  {
   "cell_type": "code",
   "execution_count": 43,
   "id": "f6e801af-74b3-4ce5-8e32-c55a8dfd47d8",
   "metadata": {},
   "outputs": [
    {
     "name": "stdout",
     "output_type": "stream",
     "text": [
      "rock\n",
      "R&B\n",
      "Soundtrack\n",
      "R&B\n",
      "soul\n",
      "pop\n"
     ]
    }
   ],
   "source": [
    "# Print the elements of the following list: Genres=[ 'rock', 'R&B', 'Soundtrack', 'R&B', 'soul', 'pop'] Make sure you follow Python conventions.\n",
    "Genres = ['rock', 'R&B', 'Soundtrack', 'R&B', 'soul', 'pop']\n",
    "for Genre in Genres:\n",
    "    print(Genre)"
   ]
  },
  {
   "cell_type": "code",
   "execution_count": 45,
   "id": "b9977c82-535d-4621-8e51-30cb2b3972d0",
   "metadata": {},
   "outputs": [
    {
     "name": "stdout",
     "output_type": "stream",
     "text": [
      "red\n",
      "yellow\n",
      "green\n",
      "purple\n",
      "blue\n"
     ]
    }
   ],
   "source": [
    "# Write a for loop that prints out the following list: squares=['red', 'yellow', 'green', 'purple', 'blue']\n",
    "squares=['red', 'yellow', 'green', 'purple', 'blue']\n",
    "for square in squares:\n",
    "    print(square)"
   ]
  },
  {
   "cell_type": "code",
   "execution_count": 46,
   "id": "d6213237-03bd-43e4-b219-2c0085084e3b",
   "metadata": {},
   "outputs": [
    {
     "name": "stdout",
     "output_type": "stream",
     "text": [
      "10\n",
      "9.5\n",
      "10\n",
      "8\n",
      "7.5\n"
     ]
    }
   ],
   "source": [
    "# Write a while loop to display the values of the Rating of an album playlist stored in the list PlayListRatings. If the score is less than 6, exit the loop. The list PlayListRatings is given by: PlayListRatings = [10, 9.5, 10, 8, 7.5, 5, 10, 10]\n",
    "PlayListRatings = [10, 9.5, 10, 8, 7.5, 5, 10, 10]\n",
    "i = 0\n",
    "rating = PlayListRatings[0]\n",
    "while(i < len(PlayListRatings) and rating >= 6):\n",
    "    print(rating)\n",
    "    i = i + 1 \n",
    "    rating = PlayListRatings[i]    "
   ]
  },
  {
   "cell_type": "code",
   "execution_count": 54,
   "id": "edb6f504-6303-4ced-9dd7-967f9edc7688",
   "metadata": {},
   "outputs": [
    {
     "name": "stdout",
     "output_type": "stream",
     "text": [
      "['orange', 'orange']\n"
     ]
    }
   ],
   "source": [
    "# Write a while loop to copy the strings 'orange' of the list squares to the list new_squares. Stop and exit the loop if the value on the list is not 'orange':\n",
    "\n",
    "squares = ['orange', 'orange', 'purple', 'blue ', 'orange']\n",
    "new_squares = []\n",
    "i = 0\n",
    "while(i < len(squares) and squares[i] == 'orange'):\n",
    "    new_squares.append(squares[i])\n",
    "    i = i + 1\n",
    "print (new_squares)"
   ]
  },
  {
   "cell_type": "code",
   "execution_count": 52,
   "id": "0626b298-b98b-4aeb-a7f4-a515bb9e08e0",
   "metadata": {},
   "outputs": [
    {
     "name": "stdout",
     "output_type": "stream",
     "text": [
      "Multiplication table of 6:\n",
      "6* 0 = 0\n",
      "6* 1 = 6\n",
      "6* 2 = 12\n",
      "6* 3 = 18\n",
      "6* 4 = 24\n",
      "6* 5 = 30\n",
      "6* 6 = 36\n",
      "6* 7 = 42\n",
      "6* 8 = 48\n",
      "6* 9 = 54\n",
      "Multiplication table of 7:\n",
      "7* 0 = 0\n",
      "7* 1 = 7\n",
      "7* 2 = 14\n",
      "7* 3 = 21\n",
      "7* 4 = 28\n",
      "7* 5 = 35\n",
      "7* 6 = 42\n",
      "7* 7 = 49\n",
      "7* 8 = 56\n",
      "7* 9 = 63\n"
     ]
    }
   ],
   "source": [
    "# Your little brother has just learned multiplication tables in school. Today he has learned tables of 6 and 7. Help him memorise both the tables by printing them using for loop. \n",
    "# hint, Write two for loops. One to print the multiplication table of 6 and the other for 7\n",
    "\n",
    "print(\"Multiplication table of 6:\")\n",
    "for i in range (10):\n",
    "    print(\"6*\",i,\"=\",6*i)\n",
    "print(\"Multiplication table of 7:\")\n",
    "for i in range (10):\n",
    "    print(\"7*\",i,\"=\",7*i)"
   ]
  },
  {
   "cell_type": "code",
   "execution_count": 53,
   "id": "84f1b577-197d-4950-a0d0-3c03027f36d7",
   "metadata": {},
   "outputs": [
    {
     "name": "stdout",
     "output_type": "stream",
     "text": [
      "['giraffe', 'gorilla', 'parrots']\n"
     ]
    }
   ],
   "source": [
    "# The following is a list of animals in a National Zoo. Animals = [\"lion\", \"giraffe\", \"gorilla\", \"parrots\", \"crocodile\",\"deer\", \"swan\"]\n",
    "# Your brother needs to write an essay on the animals whose names are made of 7 letters. Help him find those animals through a while loop and create a separate list of such animals.\n",
    "# hint:Use while loop to iterate over the elements of the list. Use if-else statement inside the for loop to check the length of each element and if the length is 7, add the element to a new list.\n",
    "    \n",
    "Animals = [\"lion\", \"giraffe\", \"gorilla\", \"parrots\", \"crocodile\",\"deer\", \"swan\"]\n",
    "New = []\n",
    "i=0\n",
    "while i<len(Animals):\n",
    "    j=Animals[i]\n",
    "    if(len(j)==7):\n",
    "        New.append(j)\n",
    "    i=i+1\n",
    "print(New)"
   ]
  },
  {
   "cell_type": "code",
   "execution_count": 55,
   "id": "e5cbfe1e-7ab1-4316-a3d1-ff3c75db5da5",
   "metadata": {},
   "outputs": [
    {
     "name": "stdout",
     "output_type": "stream",
     "text": [
      "0\n",
      "1\n",
      "2\n"
     ]
    }
   ],
   "source": [
    "for x in range(0, 3):\n",
    "    print(x)"
   ]
  },
  {
   "cell_type": "code",
   "execution_count": 56,
   "id": "41bb8c22-319f-4e7d-a879-0445303cd1b6",
   "metadata": {},
   "outputs": [
    {
     "name": "stdout",
     "output_type": "stream",
     "text": [
      "AA\n",
      "BA\n",
      "CA\n"
     ]
    }
   ],
   "source": [
    "for x in ['A', 'B', 'C']:\n",
    "    print(x + 'A')"
   ]
  },
  {
   "cell_type": "code",
   "execution_count": 57,
   "id": "1aa057b2-cc30-476a-9761-a0200e3381ad",
   "metadata": {},
   "outputs": [
    {
     "name": "stdout",
     "output_type": "stream",
     "text": [
      "0 A\n",
      "1 B\n",
      "2 C\n"
     ]
    }
   ],
   "source": [
    "for i, x in enumerate(['A', 'B', 'C']):\n",
    "    print(i, x)"
   ]
  },
  {
   "cell_type": "code",
   "execution_count": null,
   "id": "96ff5ed8-e401-4a01-af5f-ddeb133fd9af",
   "metadata": {},
   "outputs": [],
   "source": []
  },
  {
   "cell_type": "code",
   "execution_count": 58,
   "id": "3bfa4411-a148-48e9-933e-5a11309dd8ad",
   "metadata": {},
   "outputs": [
    {
     "data": {
      "text/plain": [
       "3"
      ]
     },
     "execution_count": 58,
     "metadata": {},
     "output_type": "execute_result"
    }
   ],
   "source": [
    "# What does the following function return?\n",
    "len(['A','B',1])"
   ]
  },
  {
   "cell_type": "code",
   "execution_count": 60,
   "id": "5e4ed130-5f76-4a2c-822c-3c51e8c73558",
   "metadata": {},
   "outputs": [
    {
     "data": {
      "text/plain": [
       "1"
      ]
     },
     "execution_count": 60,
     "metadata": {},
     "output_type": "execute_result"
    }
   ],
   "source": [
    "# What does the following function return? \n",
    "len([sum([1,1,1])])"
   ]
  },
  {
   "cell_type": "code",
   "execution_count": 64,
   "id": "64c35d72-854b-4763-b227-b2bbf8246d8b",
   "metadata": {},
   "outputs": [
    {
     "data": {
      "text/plain": [
       "[1, 2, 3]"
      ]
     },
     "execution_count": 64,
     "metadata": {},
     "output_type": "execute_result"
    }
   ],
   "source": [
    "# After executing the following code segment, what will be the value of list L?\n",
    "\n",
    "L=[1,3,2]\n",
    "sorted_L=sorted(L)\n",
    "sorted_L"
   ]
  },
  {
   "cell_type": "code",
   "execution_count": 67,
   "id": "71544548-8f60-49cd-994c-4407cb83bec4",
   "metadata": {},
   "outputs": [
    {
     "data": {
      "text/plain": [
       "[1, 2, 3]"
      ]
     },
     "execution_count": 67,
     "metadata": {},
     "output_type": "execute_result"
    }
   ],
   "source": [
    "L=[1,3,2]\n",
    "L.sort()\n",
    "L"
   ]
  },
  {
   "cell_type": "code",
   "execution_count": 62,
   "id": "39e4d476-24ee-4c8c-966f-71c98f24a7e6",
   "metadata": {},
   "outputs": [
    {
     "name": "stdout",
     "output_type": "stream",
     "text": [
      "a1\n",
      "b1\n",
      "c1\n"
     ]
    }
   ],
   "source": [
    "# What result does the following code produce?\n",
    "def print_function(A):\n",
    "    for a in A:\n",
    "        print(a + '1')\n",
    "print_function(['a', 'b', 'c'])"
   ]
  },
  {
   "cell_type": "code",
   "execution_count": null,
   "id": "215856ce-ee44-4b69-a12e-b19cb8b3f30c",
   "metadata": {},
   "outputs": [],
   "source": []
  },
  {
   "cell_type": "markdown",
   "id": "417fa1a0-4c4b-4c62-9782-9d8df17861a6",
   "metadata": {},
   "source": [
    "## Functions in Python"
   ]
  },
  {
   "cell_type": "markdown",
   "id": "7f8dfdf6-8b58-4e2a-8d92-5d7d96b5c537",
   "metadata": {},
   "source": [
    "A function is a reusable block of code which performs operations specified in the function. They let you break down tasks and allow you to reuse your code in different programs. \n",
    "\n",
    "There are two types of functions:\n",
    "* Pre-defined functions\n",
    "* User defined functions"
   ]
  },
  {
   "cell_type": "markdown",
   "id": "04c098ff-1a9d-4455-be8a-db7c48869c17",
   "metadata": {},
   "source": [
    "What is a Function?"
   ]
  },
  {
   "cell_type": "markdown",
   "id": "2607329c-f4d4-4ce6-bc41-6e19b6907bf1",
   "metadata": {},
   "source": [
    "You can define functions to provide the required functionality. Here are simple rules to define a function in Python: \n",
    "\n",
    "* Functions blocks begin with def (define) followed by the function name and parentheses ().\n",
    "* There are input parameters or arguments that should be placed within these parentheses.\n",
    "* You can also define parameters inside these parentheses.\n",
    "* There is a body within every function that starts with a colon (:) and is indented.\n",
    "* You can also place documentation before the body.\n",
    "* The statement return exits a function, optionally passing back a value."
   ]
  },
  {
   "cell_type": "markdown",
   "id": "28f7d71d-978c-4ab9-9262-7b995e5feada",
   "metadata": {},
   "source": [
    "An example of a function that adds on to the parameter a prints and returns the output as b"
   ]
  },
  {
   "cell_type": "code",
   "execution_count": 68,
   "id": "983b80b3-fcdd-4357-9c1c-3818d6c2a26d",
   "metadata": {},
   "outputs": [],
   "source": [
    "# First function example: Add 1 to a and store as b\n",
    "\n",
    "def add(a):\n",
    "    \"\"\"\n",
    "    add 1 to a\n",
    "    \"\"\"\n",
    "    b = a + 1\n",
    "    print(a, \"if you add one\", b)\n",
    "    return(b)"
   ]
  },
  {
   "cell_type": "code",
   "execution_count": null,
   "id": "c835dbe8-236c-4649-a1ff-bea102183f34",
   "metadata": {},
   "outputs": [],
   "source": [
    "The figure below illustrates the terminology:"
   ]
  },
  {
   "cell_type": "markdown",
   "id": "8631b179-995f-4c46-9a46-87ee6ec8f14b",
   "metadata": {},
   "source": [
    "<img src=\"https://cf-courses-data.s3.us.cloud-object-storage.appdomain.cloud/IBMDeveloperSkillsNetwork-PY0101EN-SkillsNetwork/labs/Module%203/images/FuncsDefinition.png\" width=\"500\"> "
   ]
  },
  {
   "cell_type": "markdown",
   "id": "057505b3-30e2-4b4a-bb1f-6d5046168c9a",
   "metadata": {},
   "source": [
    "We can obtain help about a function:"
   ]
  },
  {
   "cell_type": "code",
   "execution_count": 74,
   "id": "7e7997fd-a323-4140-8694-7abc1dd9ab89",
   "metadata": {},
   "outputs": [
    {
     "name": "stdout",
     "output_type": "stream",
     "text": [
      "Help on function add in module __main__:\n",
      "\n",
      "add(a)\n",
      "    add 1 to a\n",
      "\n"
     ]
    }
   ],
   "source": [
    "# Get a help on add function\n",
    "\n",
    "help(add)"
   ]
  },
  {
   "cell_type": "markdown",
   "id": "0e95cb05-f206-446d-ab94-e2edc1f4613a",
   "metadata": {},
   "source": [
    "We can call the function:"
   ]
  },
  {
   "cell_type": "code",
   "execution_count": 75,
   "id": "f325bf6b-0f6c-43c8-ae3e-e5360a8d89f6",
   "metadata": {},
   "outputs": [
    {
     "name": "stdout",
     "output_type": "stream",
     "text": [
      "1 if you add one 2\n"
     ]
    },
    {
     "data": {
      "text/plain": [
       "2"
      ]
     },
     "execution_count": 75,
     "metadata": {},
     "output_type": "execute_result"
    }
   ],
   "source": [
    "# Call the function add()\n",
    "\n",
    "add(1)"
   ]
  },
  {
   "cell_type": "markdown",
   "id": "e3bc6c9b-ecd9-4506-84e5-aabb5642b257",
   "metadata": {},
   "source": [
    "If we call the function with a new input we get a new result:"
   ]
  },
  {
   "cell_type": "code",
   "execution_count": 76,
   "id": "2519925d-859d-4253-9b5a-21489746f29f",
   "metadata": {},
   "outputs": [
    {
     "name": "stdout",
     "output_type": "stream",
     "text": [
      "2 if you add one 3\n"
     ]
    },
    {
     "data": {
      "text/plain": [
       "3"
      ]
     },
     "execution_count": 76,
     "metadata": {},
     "output_type": "execute_result"
    }
   ],
   "source": [
    "# Call the function add()\n",
    "\n",
    "add(2)"
   ]
  },
  {
   "cell_type": "markdown",
   "id": "7ecb3bcc-75a4-43a1-80b2-93f4b1366791",
   "metadata": {},
   "source": [
    "We can create different functions. For example, we can create a function that multiplies two numbers. The numbers will be represented by the variables a and b:"
   ]
  },
  {
   "cell_type": "markdown",
   "id": "58c7f5aa-a5e8-4e5b-8051-bee6103ad8d0",
   "metadata": {},
   "source": [
    "We can create different functions. For example, we can create a function that multiplies two numbers. The numbers will be represented by the variables a and b:"
   ]
  },
  {
   "cell_type": "code",
   "execution_count": 78,
   "id": "940e4aeb-2ab2-4ba5-b75c-f6cc8651534b",
   "metadata": {},
   "outputs": [
    {
     "name": "stdout",
     "output_type": "stream",
     "text": [
      "24\n"
     ]
    }
   ],
   "source": [
    "# Define a function for multiple two numbers\n",
    "\n",
    "def Mult(a, b):\n",
    "    c = a * b\n",
    "    return(c)\n",
    "    print('This is not printed')\n",
    "    \n",
    "result = Mult(12,2)\n",
    "print(result)"
   ]
  },
  {
   "cell_type": "markdown",
   "id": "e5f9afb3-01b8-441c-b887-31e41d4eb4cd",
   "metadata": {},
   "source": [
    "The same function can be used for different data types. For example, we can multiply two integers:"
   ]
  },
  {
   "cell_type": "code",
   "execution_count": 79,
   "id": "c7027127-a0d5-4ae3-8b9d-e624825ccc1a",
   "metadata": {},
   "outputs": [
    {
     "data": {
      "text/plain": [
       "6"
      ]
     },
     "execution_count": 79,
     "metadata": {},
     "output_type": "execute_result"
    }
   ],
   "source": [
    "# Use mult() multiply two integers\n",
    "\n",
    "Mult(2, 3)"
   ]
  },
  {
   "cell_type": "markdown",
   "id": "33a637ca-bcaf-4d9d-a80c-8a815987ae65",
   "metadata": {},
   "source": [
    "Note how the function terminates at the  return  statement, while passing back a value. This value can be further assigned to a different variable as desired."
   ]
  },
  {
   "cell_type": "markdown",
   "id": "88845f3e-bb24-4c10-981d-613caac4af78",
   "metadata": {},
   "source": [
    "The same function can be used for different data types. For example, we can multiply two integers:"
   ]
  },
  {
   "cell_type": "markdown",
   "id": "d6814e9d-4411-4cd7-89c8-c31dd6dd12de",
   "metadata": {},
   "source": [
    "Two Floats:"
   ]
  },
  {
   "cell_type": "code",
   "execution_count": 80,
   "id": "44d1c21d-3128-4d5c-b0a2-23116f894cc8",
   "metadata": {},
   "outputs": [
    {
     "data": {
      "text/plain": [
       "31.400000000000002"
      ]
     },
     "execution_count": 80,
     "metadata": {},
     "output_type": "execute_result"
    }
   ],
   "source": [
    "# Use mult() multiply two floats\n",
    "\n",
    "Mult(10.0, 3.14)"
   ]
  },
  {
   "cell_type": "markdown",
   "id": "45d223c3-e3d0-4e26-aee0-61ba32d5736a",
   "metadata": {},
   "source": [
    "We can even replicate a string by multiplying with an integer:"
   ]
  },
  {
   "cell_type": "code",
   "execution_count": 81,
   "id": "2ac048ac-0bb8-45cb-bd48-e9a96fa7ade4",
   "metadata": {},
   "outputs": [
    {
     "data": {
      "text/plain": [
       "'Michael Jackson Michael Jackson '"
      ]
     },
     "execution_count": 81,
     "metadata": {},
     "output_type": "execute_result"
    }
   ],
   "source": [
    "# Use mult() multiply two different type values together\n",
    "\n",
    "Mult(2, \"Michael Jackson \")"
   ]
  },
  {
   "cell_type": "code",
   "execution_count": null,
   "id": "d62a4c5b-ad80-475c-81e6-6366c40c0b18",
   "metadata": {},
   "outputs": [],
   "source": []
  },
  {
   "cell_type": "markdown",
   "id": "738947f9-f017-4910-8002-2d1574076110",
   "metadata": {},
   "source": [
    "##### Variables"
   ]
  },
  {
   "cell_type": "markdown",
   "id": "95fdc643-06aa-4faa-a260-ac5c75896d34",
   "metadata": {},
   "source": [
    "The input to a function is called a formal parameter.\n",
    "\n",
    "A variable that is declared inside a function is called a local variable. The parameter only exists within the function (i.e. the point where the function starts and stops).\n",
    "\n",
    "A variable that is declared outside a function definition is a global variable, and its value is accessible and modifiable throughout the program. We will discuss more about global variables at the end of the lab."
   ]
  },
  {
   "cell_type": "code",
   "execution_count": 83,
   "id": "ab420199-c1d6-42cb-a30a-6d3a53c607a0",
   "metadata": {},
   "outputs": [],
   "source": [
    "# Function Definition\n",
    "\n",
    "def square(a):\n",
    "    \n",
    "    # Local variable b\n",
    "    b = 1\n",
    "    c = a * a + b\n",
    "    print(a, \"if you square + 1\", c) \n",
    "    return(c)"
   ]
  },
  {
   "cell_type": "markdown",
   "id": "9ffd33c2-60ef-416f-aeba-860b22d3e4f7",
   "metadata": {},
   "source": [
    "The labels are displayed in the figure:"
   ]
  },
  {
   "cell_type": "markdown",
   "id": "0828153b-1988-435b-9b33-ddad3ba63e93",
   "metadata": {},
   "source": [
    "<img src=\"https://cf-courses-data.s3.us.cloud-object-storage.appdomain.cloud/IBMDeveloperSkillsNetwork-PY0101EN-SkillsNetwork/labs/Module%203/images/FuncsVar.png\" width=\"500\">"
   ]
  },
  {
   "cell_type": "markdown",
   "id": "bbbd5293-49cc-4eaa-a083-8c3e2dd2a608",
   "metadata": {},
   "source": [
    "We can call the function with an input of 3:"
   ]
  },
  {
   "cell_type": "code",
   "execution_count": 85,
   "id": "de955886-64d7-4e04-9583-be1acea1c9eb",
   "metadata": {},
   "outputs": [
    {
     "name": "stdout",
     "output_type": "stream",
     "text": [
      "3 if you square + 1 10\n"
     ]
    },
    {
     "data": {
      "text/plain": [
       "10"
      ]
     },
     "execution_count": 85,
     "metadata": {},
     "output_type": "execute_result"
    }
   ],
   "source": [
    "# Initializes Global variable  \n",
    "\n",
    "x = 3\n",
    "# Makes function call and return function a y\n",
    "y = square(x)\n",
    "y"
   ]
  },
  {
   "cell_type": "markdown",
   "id": "8ca0c194-ded8-48b2-8196-b48bd7089054",
   "metadata": {},
   "source": [
    "We can call the function with an input of 2 in a different manner:"
   ]
  },
  {
   "cell_type": "code",
   "execution_count": 87,
   "id": "a10bc60e-d406-403e-acc1-5d89fad7a941",
   "metadata": {},
   "outputs": [
    {
     "name": "stdout",
     "output_type": "stream",
     "text": [
      "2 if you square + 1 5\n"
     ]
    },
    {
     "data": {
      "text/plain": [
       "5"
      ]
     },
     "execution_count": 87,
     "metadata": {},
     "output_type": "execute_result"
    }
   ],
   "source": [
    "# Directly enter a number as parameter\n",
    "\n",
    "square(2)"
   ]
  },
  {
   "cell_type": "markdown",
   "id": "7348f3a7-cf12-4cb9-b4c4-4fe06f2dfad2",
   "metadata": {},
   "source": [
    "If there is no return statement, the function returns None. The following two functions are equivalent:"
   ]
  },
  {
   "cell_type": "code",
   "execution_count": 97,
   "id": "f571e292-e973-4873-a4e9-fc4971f8e091",
   "metadata": {},
   "outputs": [],
   "source": [
    "# Define functions, one with return value None and other without return value\n",
    "\n",
    "def MJ():\n",
    "    print('Michael Jackson')\n",
    "    \n",
    "def MJ1():\n",
    "    print('Michael Jackson')\n",
    "    return(None)"
   ]
  },
  {
   "cell_type": "code",
   "execution_count": 98,
   "id": "4a60241c-da1f-4f8c-b542-22c8ee9b0e4a",
   "metadata": {},
   "outputs": [
    {
     "name": "stdout",
     "output_type": "stream",
     "text": [
      "Michael Jackson\n"
     ]
    }
   ],
   "source": [
    "# See the output\n",
    "\n",
    "MJ()"
   ]
  },
  {
   "cell_type": "code",
   "execution_count": 99,
   "id": "88f36d25-3f38-48ec-835f-bfa69d040e43",
   "metadata": {},
   "outputs": [
    {
     "name": "stdout",
     "output_type": "stream",
     "text": [
      "Michael Jackson\n"
     ]
    }
   ],
   "source": [
    "# See the output\n",
    "\n",
    "MJ1()"
   ]
  },
  {
   "cell_type": "markdown",
   "id": "b92381a0-5032-43fb-8340-e1cb0cfb120e",
   "metadata": {},
   "source": [
    "Printing the function after a call reveals a None is the default return statement:"
   ]
  },
  {
   "cell_type": "code",
   "execution_count": 100,
   "id": "8fc0e560-0f35-48c6-9b00-eadcb591dd93",
   "metadata": {},
   "outputs": [
    {
     "name": "stdout",
     "output_type": "stream",
     "text": [
      "Michael Jackson\n",
      "None\n",
      "Michael Jackson\n",
      "None\n"
     ]
    }
   ],
   "source": [
    "# See what functions returns are\n",
    "\n",
    "print(MJ())\n",
    "print(MJ1())"
   ]
  },
  {
   "cell_type": "markdown",
   "id": "515ac047-5aaa-4076-8a46-38f0f2f32657",
   "metadata": {},
   "source": [
    "Create a function con that concatenates two strings using the addition operation:"
   ]
  },
  {
   "cell_type": "code",
   "execution_count": 101,
   "id": "fe886041-1b9a-4c86-9150-e98076ea46f2",
   "metadata": {},
   "outputs": [],
   "source": [
    "# Define the function for combining strings\n",
    "\n",
    "def con(a, b):\n",
    "    return(a + b)"
   ]
  },
  {
   "cell_type": "code",
   "execution_count": 102,
   "id": "c8a6d4ba-e607-44b1-835a-4beb492b7a79",
   "metadata": {},
   "outputs": [
    {
     "data": {
      "text/plain": [
       "'This is'"
      ]
     },
     "execution_count": 102,
     "metadata": {},
     "output_type": "execute_result"
    }
   ],
   "source": [
    "# Test on the con() function\n",
    "\n",
    "con(\"This \", \"is\")"
   ]
  },
  {
   "cell_type": "markdown",
   "id": "dfaddaf1-61ce-46b3-a7e5-794f45601c03",
   "metadata": {},
   "source": [
    "[Tip] How do I learn more about the pre-defined functions in Python? \n",
    "We will be introducing a variety of pre-defined functions to you as you learn more about Python. There are just too many functions, so there's no way we can teach them all in one sitting. But if you'd like to take a quick peek, here's a short reference card for some of the commonly-used pre-defined functions:"
   ]
  },
  {
   "cell_type": "markdown",
   "id": "754400f4-d3b3-4dfd-88db-f37bb45a66db",
   "metadata": {},
   "source": [
    "##### Functions Make Things Simple"
   ]
  },
  {
   "cell_type": "markdown",
   "id": "4a4b4019-fd9a-4b14-9f4a-6bd5a9a05f88",
   "metadata": {},
   "source": [
    "Consider the two lines of code in Block 1 and Block 2: the procedure for each block is identical. The only thing that is different is the variable names and values."
   ]
  },
  {
   "cell_type": "markdown",
   "id": "d2e619bc-c092-43b5-9aa8-6cfbaf2427c2",
   "metadata": {},
   "source": [
    "**Block 1**"
   ]
  },
  {
   "cell_type": "code",
   "execution_count": 104,
   "id": "21b01e50-bbb1-419a-8282-69289f90dd36",
   "metadata": {},
   "outputs": [
    {
     "data": {
      "text/plain": [
       "5"
      ]
     },
     "execution_count": 104,
     "metadata": {},
     "output_type": "execute_result"
    }
   ],
   "source": [
    "# a and b calculation block1\n",
    "\n",
    "a1 = 4\n",
    "b1 = 5\n",
    "c1 = a1 + b1 + 2 * a1 * b1 - 1\n",
    "if(c1 < 0):\n",
    "    c1 = 0 \n",
    "else:\n",
    "    c1 = 5\n",
    "c1   "
   ]
  },
  {
   "cell_type": "markdown",
   "id": "0895d826-5ee4-443a-9494-a53aac9c65f8",
   "metadata": {},
   "source": [
    "**Block 2**"
   ]
  },
  {
   "cell_type": "code",
   "execution_count": 105,
   "id": "d19b6ec1-2ebd-4a82-b6eb-baffbe284b12",
   "metadata": {},
   "outputs": [
    {
     "data": {
      "text/plain": [
       "0"
      ]
     },
     "execution_count": 105,
     "metadata": {},
     "output_type": "execute_result"
    }
   ],
   "source": [
    "# a and b calculation block2\n",
    "\n",
    "a2 = 0\n",
    "b2 = 0\n",
    "c2 = a2 + b2 + 2 * a2 * b2 - 1\n",
    "if(c2 < 0):\n",
    "    c2 = 0 \n",
    "else:\n",
    "    c2 = 5\n",
    "c2   "
   ]
  },
  {
   "cell_type": "markdown",
   "id": "9afca536-cc19-42cd-9d92-c9f60181c1e6",
   "metadata": {},
   "source": [
    "We can replace the lines of code with a function. A function combines many instructions into a single line of code. Once a function is defined, it can be used repeatedly. You can invoke the same function many times in your program. You can save your function and use it in another program or use someone else’s function. The lines of code in code Block 1 and code Block 2 can be replaced by the following function:"
   ]
  },
  {
   "cell_type": "code",
   "execution_count": 106,
   "id": "3fd3ee71-5683-42c4-be47-0c9c8ec5ab25",
   "metadata": {},
   "outputs": [],
   "source": [
    "# Make a Function for the calculation above\n",
    "\n",
    "def Equation(a,b):\n",
    "    c = a + b + 2 * a * b - 1\n",
    "    if(c < 0):\n",
    "        c = 0 \n",
    "    else:\n",
    "        c = 5\n",
    "    return(c) "
   ]
  },
  {
   "cell_type": "markdown",
   "id": "e9b781c7-5d29-4a6b-ba22-933f4e32ef7f",
   "metadata": {},
   "source": [
    "This function takes two inputs, a and b, then applies several operations to return c. We simply define the function, replace the instructions with the function, and input the new values of a1, b1 and a2, b2 as inputs. The entire process is demonstrated in the figure:"
   ]
  },
  {
   "cell_type": "markdown",
   "id": "7365247b-45fd-47ed-8f43-46758c5f58df",
   "metadata": {},
   "source": [
    "<img src=\"https://cf-courses-data.s3.us.cloud-object-storage.appdomain.cloud/IBMDeveloperSkillsNetwork-PY0101EN-SkillsNetwork/labs/Module%203/images/FuncsPros.gif\" width=\"850\">"
   ]
  },
  {
   "cell_type": "markdown",
   "id": "aeadb8c0-8b04-4dac-9ab6-94e942fec627",
   "metadata": {},
   "source": [
    "Code **Blocks 1** and **Blocks 2** can now be replaced with code **Blocks 3** and code **Blocks 4**"
   ]
  },
  {
   "cell_type": "markdown",
   "id": "1317aa8a-d5e0-4434-98cf-cfed10049937",
   "metadata": {},
   "source": [
    "**Blocks 3**"
   ]
  },
  {
   "cell_type": "code",
   "execution_count": 107,
   "id": "b49d2843-ed8f-4526-bad5-36a7487b8e08",
   "metadata": {},
   "outputs": [
    {
     "data": {
      "text/plain": [
       "5"
      ]
     },
     "execution_count": 107,
     "metadata": {},
     "output_type": "execute_result"
    }
   ],
   "source": [
    "a1 = 4\n",
    "b1 = 5\n",
    "c1 = Equation(a1, b1)\n",
    "c1"
   ]
  },
  {
   "cell_type": "markdown",
   "id": "4db60ef7-6e34-410b-a8d1-d7c7fe768faa",
   "metadata": {},
   "source": [
    "**Blocks 4**"
   ]
  },
  {
   "cell_type": "code",
   "execution_count": 108,
   "id": "c82dabd6-a697-4300-b1cb-a8a882ac2e87",
   "metadata": {},
   "outputs": [
    {
     "data": {
      "text/plain": [
       "0"
      ]
     },
     "execution_count": 108,
     "metadata": {},
     "output_type": "execute_result"
    }
   ],
   "source": [
    "a2 = 0\n",
    "b2 = 0\n",
    "c2 = Equation(a2, b2)\n",
    "c2"
   ]
  },
  {
   "cell_type": "code",
   "execution_count": null,
   "id": "11937d72-f3c3-47c7-acf2-31bca0401b8b",
   "metadata": {},
   "outputs": [],
   "source": []
  },
  {
   "cell_type": "markdown",
   "id": "34d778bd-9a49-4a2b-81d5-8334c2054da0",
   "metadata": {},
   "source": [
    "#### Pre-defined functions"
   ]
  },
  {
   "cell_type": "markdown",
   "id": "a1056617-ce2c-47df-a3f0-7ac980a88b7f",
   "metadata": {},
   "source": [
    "There are many pre-defined functions in Python, so let's start with the simple ones."
   ]
  },
  {
   "cell_type": "markdown",
   "id": "b86d1a4a-682e-485f-9fbd-16850782378e",
   "metadata": {},
   "source": [
    "The **print()** function:"
   ]
  },
  {
   "cell_type": "code",
   "execution_count": 109,
   "id": "046d6fbf-105a-44e2-ad34-a8e6cc3ba55e",
   "metadata": {},
   "outputs": [
    {
     "name": "stdout",
     "output_type": "stream",
     "text": [
      "[10.0, 8.5, 9.5, 7.0, 7.0, 9.5, 9.0, 9.5]\n"
     ]
    }
   ],
   "source": [
    "# Build-in function print()\n",
    "\n",
    "album_ratings = [10.0, 8.5, 9.5, 7.0, 7.0, 9.5, 9.0, 9.5] \n",
    "print(album_ratings)"
   ]
  },
  {
   "cell_type": "markdown",
   "id": "4cabd5b1-faa3-417b-a552-7fc30815ab4c",
   "metadata": {},
   "source": [
    "The **sum()** function adds all the elements in a list or tuple:"
   ]
  },
  {
   "cell_type": "code",
   "execution_count": 113,
   "id": "82c21f0e-387a-4e9f-8205-1444bfee6020",
   "metadata": {},
   "outputs": [
    {
     "data": {
      "text/plain": [
       "70.0"
      ]
     },
     "execution_count": 113,
     "metadata": {},
     "output_type": "execute_result"
    }
   ],
   "source": [
    "# Use sum() to add every element in a list or tuple together\n",
    "\n",
    "sum(album_ratings)"
   ]
  },
  {
   "cell_type": "markdown",
   "id": "e8830f56-a05b-4b46-8c3f-7b6001cf7037",
   "metadata": {},
   "source": [
    "The **len()** function returns the length of a list or tuple:"
   ]
  },
  {
   "cell_type": "code",
   "execution_count": 111,
   "id": "99678c18-c522-4f5c-90ec-425fc68df1c8",
   "metadata": {},
   "outputs": [
    {
     "data": {
      "text/plain": [
       "8"
      ]
     },
     "execution_count": 111,
     "metadata": {},
     "output_type": "execute_result"
    }
   ],
   "source": [
    "# Show the length of the list or tuple\n",
    "\n",
    "len(album_ratings)"
   ]
  },
  {
   "cell_type": "markdown",
   "id": "ca74532a-9a89-4160-b5f9-0629ef082013",
   "metadata": {},
   "source": [
    "#### Using if/else Statements and Loops in Functions"
   ]
  },
  {
   "cell_type": "markdown",
   "id": "08828a00-d4ce-411b-9e33-a49b13221f8f",
   "metadata": {},
   "source": [
    "The return() function is particularly useful if you have any IF statements in the function, when you want your output to be dependent on some condition:"
   ]
  },
  {
   "cell_type": "code",
   "execution_count": 114,
   "id": "6abb4977-b50d-4d4d-8a67-b5e947a490ea",
   "metadata": {},
   "outputs": [
    {
     "name": "stdout",
     "output_type": "stream",
     "text": [
      "Michael Jackson Thriller 1980\n",
      "Oldie\n"
     ]
    }
   ],
   "source": [
    "# Function example\n",
    "\n",
    "def type_of_album(artist, album, year_released):\n",
    "    \n",
    "    print(artist, album, year_released)\n",
    "    if year_released > 1980:\n",
    "        return \"Modern\"\n",
    "    else:\n",
    "        return \"Oldie\"\n",
    "    \n",
    "x = type_of_album(\"Michael Jackson\", \"Thriller\", 1980)\n",
    "print(x)"
   ]
  },
  {
   "cell_type": "markdown",
   "id": "d8f761f2-1010-4ac3-9164-b79220e118ac",
   "metadata": {},
   "source": [
    "We can use a loop in a function. For example, we can print out each element in a list:"
   ]
  },
  {
   "cell_type": "code",
   "execution_count": 115,
   "id": "671f3ebc-3a21-4376-96d8-970fd15377de",
   "metadata": {},
   "outputs": [],
   "source": [
    "# Print the list using for loop\n",
    "\n",
    "def PrintList(the_list):\n",
    "    for element in the_list:\n",
    "        print(element)"
   ]
  },
  {
   "cell_type": "code",
   "execution_count": 116,
   "id": "4b7032e7-1fe1-496e-909b-aa5e79f9f24d",
   "metadata": {},
   "outputs": [
    {
     "name": "stdout",
     "output_type": "stream",
     "text": [
      "1\n",
      "1\n",
      "the man\n",
      "abc\n"
     ]
    }
   ],
   "source": [
    "# Implement the printlist function\n",
    "\n",
    "PrintList(['1', 1, 'the man', \"abc\"])"
   ]
  },
  {
   "cell_type": "markdown",
   "id": "cab99e3d-b48a-4ecb-9977-f4f244f6c16c",
   "metadata": {},
   "source": [
    "#### String comparison in Functions"
   ]
  },
  {
   "cell_type": "markdown",
   "id": "bf31072a-4bb0-4324-9eef-2a43ed4dd125",
   "metadata": {},
   "source": [
    "The relational operators compare the Unicode values of the characters of the strings from the zeroth index till the end of the string. It then returns a boolean value according to the operator used."
   ]
  },
  {
   "cell_type": "code",
   "execution_count": 117,
   "id": "3075cbd3-0198-48b6-83bd-99fccaffc44a",
   "metadata": {},
   "outputs": [
    {
     "data": {
      "text/plain": [
       "'String matched'"
      ]
     },
     "execution_count": 117,
     "metadata": {},
     "output_type": "execute_result"
    }
   ],
   "source": [
    "#Compare Two Strings Directly using in operator\n",
    "# add string\n",
    "string= \"Michael Jackson is the best\"\n",
    "\n",
    "# Define a funtion\n",
    "def check_string(text):\n",
    "    \n",
    "# Use if else statement and 'in' operatore to compare the string\n",
    "    if text in string:\n",
    "        return 'String matched'\n",
    "    else:\n",
    "        return 'String not matched'\n",
    "\n",
    "check_string(\"Michael Jackson is the best\")"
   ]
  },
  {
   "cell_type": "markdown",
   "id": "a27b5c3a-ac40-4e38-b133-bfea316fd606",
   "metadata": {},
   "source": [
    "This program uses a user-defined function named compareStrings() to compare two strings.\n",
    "\n",
    "This function receives both strings as its argument and returns 1 if both strings are equal using == operator"
   ]
  },
  {
   "cell_type": "code",
   "execution_count": 118,
   "id": "4856c7a6-f979-43b4-82ae-2b5cd1bd5cbb",
   "metadata": {},
   "outputs": [
    {
     "name": "stdout",
     "output_type": "stream",
     "text": [
      "\n",
      "String Matched\n"
     ]
    }
   ],
   "source": [
    "#Compare two strings using == operator and function\n",
    "def compareStrings(x, y):\n",
    "# Use if else statement to compare x and y\n",
    "    if x==y:\n",
    "        return 1\n",
    "    \n",
    "# Declare two different variables as string1 and string2 and pass string in it\n",
    "string1 = \"Michael Jackson is the best\"\n",
    "string2 = \"Michael Jackson is the best\"\n",
    "\n",
    "# Declare a variable to store result after comparing both the strings\n",
    "check = compareStrings(string1, string2)\n",
    "\n",
    "#Use if else statement to compare the string\n",
    "if check==1:\n",
    "    print(\"\\nString Matched\")\n",
    "else:\n",
    "    print(\"\\nString not Matched\")"
   ]
  },
  {
   "cell_type": "markdown",
   "id": "6bd8122b-ed30-4d94-a816-9bf8ad25f07e",
   "metadata": {},
   "source": [
    "Count the Frequency of Words Appearing in a String Using a Dictionary.\n",
    "\n",
    "Find the count of occurence of any word in our string using python. This is what we are going to do in this section, count the number of word in a given string and print it.\n",
    "\n",
    "Lets suppose we have a ‘string’ and the ‘word’ and we need to find the count of occurence of this word in our string using python. This is what we are going to do in this section, count the number of word in a given string and print it.\n",
    "\n",
    "The first thing, we will do is define a function and and then create a list that will be empty initially.\n",
    "\n",
    "Next, we will add a code to convert the string to a list. Python string has a split() method. It takes a string and some separator to return a list.\n",
    "\n",
    "Now we will declare an empty dictionary.\n",
    "\n",
    "Next we will add code using for loop to iterate the words and value will will count the frequency of each words in the string and store them to the dictionary.\n",
    "\n",
    "Finally we will print the dictionary."
   ]
  },
  {
   "cell_type": "code",
   "execution_count": 119,
   "id": "08080dae-daf8-4e0e-b8b9-86be72a345a7",
   "metadata": {},
   "outputs": [
    {
     "name": "stdout",
     "output_type": "stream",
     "text": [
      "The Frequency of words is: {'Mary': 6, 'had': 2, 'a': 2, 'little': 3, 'lamb': 3, 'Little': 1, 'lamb,': 1, 'lamb.Its': 1, 'fleece': 1, 'was': 2, 'white': 1, 'as': 1, 'snow': 1, 'And': 1, 'everywhere': 1, 'that': 2, 'went': 3, 'went,': 1, 'Everywhere': 1, 'The': 1, 'sure': 1, 'to': 1, 'go': 1}\n"
     ]
    }
   ],
   "source": [
    "# Python Program to Count words in a String using Dictionary\n",
    "def freq(string):\n",
    "    \n",
    "    #step1: A list variable is declared and initialized to an empty list.\n",
    "    words = []\n",
    "    \n",
    "    #step2: Break the string into list of words\n",
    "    words = string.split() # or string.lower().split()\n",
    "    \n",
    "    #step3: Declare a dictionary\n",
    "    Dict = {}\n",
    "    \n",
    "    #step4: Use for loop to iterate words and values to the dictionary\n",
    "    for key in words:\n",
    "        Dict[key] = words.count(key)\n",
    "        \n",
    "    #step5: Print the dictionary\n",
    "    print(\"The Frequency of words is:\",Dict)\n",
    "    \n",
    "#step6: Call function and pass string in it\n",
    "freq(\"Mary had a little lamb Little lamb, little lamb Mary had a little lamb.Its fleece was white as snow And everywhere that Mary went Mary went, Mary went \\\n",
    "Everywhere that Mary went The lamb was sure to go\")"
   ]
  },
  {
   "cell_type": "markdown",
   "id": "eef212cd-4cc8-42e5-bcbf-85dcf2c53b14",
   "metadata": {},
   "source": [
    "##### Setting default argument values in your custom functions"
   ]
  },
  {
   "cell_type": "markdown",
   "id": "0355733c-2f37-4e90-8d88-265eb25db6b6",
   "metadata": {},
   "source": [
    "You can set a default value for arguments in your function. For example, in the isGoodRating() function, what if we wanted to create a threshold for what we consider to be a good rating? Perhaps by default, we should have a default rating of 4:"
   ]
  },
  {
   "cell_type": "code",
   "execution_count": 120,
   "id": "6b4c24ea-f866-4641-9ef7-c6e553b47fb9",
   "metadata": {},
   "outputs": [],
   "source": [
    "# Example for setting param with default value\n",
    "\n",
    "def isGoodRating(rating=4): \n",
    "    if(rating < 7):\n",
    "        print(\"this album sucks it's rating is\",rating)\n",
    "        \n",
    "    else:\n",
    "        print(\"this album is good its rating is\",rating)\n"
   ]
  },
  {
   "cell_type": "code",
   "execution_count": 121,
   "id": "42dd8473-df6b-400d-b24f-50731abcbb9a",
   "metadata": {},
   "outputs": [
    {
     "name": "stdout",
     "output_type": "stream",
     "text": [
      "this album sucks it's rating is 4\n",
      "this album is good its rating is 10\n"
     ]
    }
   ],
   "source": [
    "# Test the value with default value and with input\n",
    "\n",
    "isGoodRating()\n",
    "isGoodRating(10)"
   ]
  },
  {
   "cell_type": "markdown",
   "id": "8810d148-c620-482b-ac59-d099a2568fc3",
   "metadata": {},
   "source": [
    "##### Global variables"
   ]
  },
  {
   "cell_type": "markdown",
   "id": "b5df5b7b-4cb8-4a2a-a502-b7a01f10599d",
   "metadata": {},
   "source": [
    "So far, we've been creating variables within functions, but we have not discussed variables outside the function. These are called global variables.\n",
    "Let's try to see what printer1 returns:"
   ]
  },
  {
   "cell_type": "code",
   "execution_count": 122,
   "id": "464e3083-a17c-4bf2-ba81-c1ffa0a6f640",
   "metadata": {},
   "outputs": [
    {
     "name": "stdout",
     "output_type": "stream",
     "text": [
      "Michael Jackson is an artist\n"
     ]
    }
   ],
   "source": [
    "# Example of global variable\n",
    "\n",
    "artist = \"Michael Jackson\"\n",
    "def printer1(artist):\n",
    "    internal_var1 = artist\n",
    "    print(artist, \"is an artist\")\n",
    "    \n",
    "printer1(artist)\n",
    "# try runningthe following code\n",
    "#printer1(internal_var1) "
   ]
  },
  {
   "cell_type": "code",
   "execution_count": 125,
   "id": "12038727-a2d6-4999-861f-088690b23a4f",
   "metadata": {},
   "outputs": [
    {
     "ename": "SyntaxError",
     "evalue": "unterminated string literal (detected at line 3) (3184174050.py, line 3)",
     "output_type": "error",
     "traceback": [
      "\u001b[1;36m  Cell \u001b[1;32mIn[125], line 3\u001b[1;36m\u001b[0m\n\u001b[1;33m    It's because all the variables we create in the function is a local variable, meaning that the variable assignment does not persist outside the function.\u001b[0m\n\u001b[1;37m      ^\u001b[0m\n\u001b[1;31mSyntaxError\u001b[0m\u001b[1;31m:\u001b[0m unterminated string literal (detected at line 3)\n"
     ]
    }
   ],
   "source": [
    "We got a Name Error: name 'internal_var' is not defined. Why?\n",
    "\n",
    "It's because all the variables we create in the function is a local variable, meaning that the variable assignment does not persist outside the function.\n",
    "\n",
    "But there is a way to create global variables from within a function as follows:"
   ]
  },
  {
   "cell_type": "code",
   "execution_count": 124,
   "id": "4914503b-dada-4ae0-9efe-eaa68c5d943b",
   "metadata": {},
   "outputs": [
    {
     "name": "stdout",
     "output_type": "stream",
     "text": [
      "Michael Jackson is an artist\n",
      "Whitney Houston is an artist\n"
     ]
    }
   ],
   "source": [
    "artist = \"Michael Jackson\"\n",
    "\n",
    "def printer(artist):\n",
    "    global internal_var \n",
    "    internal_var= \"Whitney Houston\"\n",
    "    print(artist,\"is an artist\")\n",
    "\n",
    "printer(artist) \n",
    "printer(internal_var)"
   ]
  },
  {
   "cell_type": "markdown",
   "id": "df1f783e-2ec7-4c04-8e6b-983d5c973534",
   "metadata": {},
   "source": [
    "##### Scope of a Variable"
   ]
  },
  {
   "cell_type": "markdown",
   "id": "a083b7ce-b261-452a-9c25-9a112d6cb305",
   "metadata": {},
   "source": [
    "The scope of a variable is the part of that program where that variable is accessible. Variables that are declared outside of all function definitions, such as the myFavouriteBand variable in the code shown here, are accessible from anywhere within the program. As a result, such variables are said to have global scope, and are known as global variables. myFavouriteBand is a global variable, so it is accessible from within the getBandRating function, and we can use it to determine a band's rating. We can also use it outside of the function, such as when we pass it to the print function to display it:"
   ]
  },
  {
   "cell_type": "code",
   "execution_count": 127,
   "id": "6463c149-594e-4887-ad14-4bc4c0241e38",
   "metadata": {},
   "outputs": [
    {
     "name": "stdout",
     "output_type": "stream",
     "text": [
      "AC/DC's rating is: 10.0\n",
      "Deep Purple's rating is: 0.0\n",
      "My favourite band is: AC/DC\n"
     ]
    }
   ],
   "source": [
    "# Example of global variable\n",
    "\n",
    "myFavouriteBand = \"AC/DC\"\n",
    "\n",
    "def getBandRating(bandname):\n",
    "    if bandname == myFavouriteBand:\n",
    "        return 10.0\n",
    "    else:\n",
    "        return 0.0\n",
    "\n",
    "print(\"AC/DC's rating is:\", getBandRating(\"AC/DC\"))\n",
    "print(\"Deep Purple's rating is:\",getBandRating(\"Deep Purple\"))\n",
    "print(\"My favourite band is:\", myFavouriteBand)"
   ]
  },
  {
   "cell_type": "markdown",
   "id": "b941d082-e41b-4340-9f1d-e7d929c33270",
   "metadata": {},
   "source": [
    "Take a look at this modified version of our code. Now the myFavouriteBand variable is defined within the getBandRating function. A variable that is defined within a function is said to be a local variable of that function. That means that it is only accessible from within the function in which it is defined. Our getBandRating function will still work, because myFavouriteBand is still defined within the function. However, we can no longer print myFavouriteBand outside our function, because it is a local variable of our getBandRating function; it is only defined within the getBandRating function:"
   ]
  },
  {
   "cell_type": "code",
   "execution_count": 128,
   "id": "1ecb92f8-73e1-4d19-a403-ce5928409ef9",
   "metadata": {},
   "outputs": [
    {
     "name": "stdout",
     "output_type": "stream",
     "text": [
      "AC/DC's rating is:  10.0\n",
      "Deep Purple's rating is:  0.0\n"
     ]
    },
    {
     "ename": "NameError",
     "evalue": "name 'myFavouriteBand' is not defined",
     "output_type": "error",
     "traceback": [
      "\u001b[1;31m---------------------------------------------------------------------------\u001b[0m",
      "\u001b[1;31mNameError\u001b[0m                                 Traceback (most recent call last)",
      "Cell \u001b[1;32mIn[128], line 16\u001b[0m\n\u001b[0;32m     14\u001b[0m \u001b[38;5;28mprint\u001b[39m(\u001b[38;5;124m\"\u001b[39m\u001b[38;5;124mAC/DC\u001b[39m\u001b[38;5;124m'\u001b[39m\u001b[38;5;124ms rating is: \u001b[39m\u001b[38;5;124m\"\u001b[39m, getBandRating(\u001b[38;5;124m\"\u001b[39m\u001b[38;5;124mAC/DC\u001b[39m\u001b[38;5;124m\"\u001b[39m))\n\u001b[0;32m     15\u001b[0m \u001b[38;5;28mprint\u001b[39m(\u001b[38;5;124m\"\u001b[39m\u001b[38;5;124mDeep Purple\u001b[39m\u001b[38;5;124m'\u001b[39m\u001b[38;5;124ms rating is: \u001b[39m\u001b[38;5;124m\"\u001b[39m, getBandRating(\u001b[38;5;124m\"\u001b[39m\u001b[38;5;124mDeep Purple\u001b[39m\u001b[38;5;124m\"\u001b[39m))\n\u001b[1;32m---> 16\u001b[0m \u001b[38;5;28mprint\u001b[39m(\u001b[38;5;124m\"\u001b[39m\u001b[38;5;124mMy favourite band is\u001b[39m\u001b[38;5;124m\"\u001b[39m, myFavouriteBand)\n",
      "\u001b[1;31mNameError\u001b[0m: name 'myFavouriteBand' is not defined"
     ]
    }
   ],
   "source": [
    "# Deleting the variable \"myFavouriteBand\" from the previous example to demonstrate an example of a local variable \n",
    "\n",
    "del myFavouriteBand\n",
    "\n",
    "# Example of local variable\n",
    "\n",
    "def getBandRating(bandname):\n",
    "    myFavouriteBand = \"AC/DC\"\n",
    "    if bandname == myFavouriteBand:\n",
    "        return 10.0\n",
    "    else:\n",
    "        return 0.0\n",
    "\n",
    "print(\"AC/DC's rating is: \", getBandRating(\"AC/DC\"))\n",
    "print(\"Deep Purple's rating is: \", getBandRating(\"Deep Purple\"))\n",
    "print(\"My favourite band is\", myFavouriteBand)"
   ]
  },
  {
   "cell_type": "markdown",
   "id": "7805b55e-7c62-44c3-8569-386f969f2e59",
   "metadata": {},
   "source": [
    "Finally, take a look at this example. We now have two myFavouriteBand variable definitions. The first one of these has a global scope, and the second of them is a local variable within the getBandRating function. Within the getBandRating function, the local variable takes precedence. Deep Purple will receive a rating of 10.0 when passed to the getBandRating function. However, outside of the getBandRating function, the getBandRating s local variable is not defined, so the myFavouriteBand variable we print is the global variable, which has a value of AC/DC:"
   ]
  },
  {
   "cell_type": "code",
   "execution_count": 129,
   "id": "5954cb17-4a5e-4ff6-9962-47743ba95ad7",
   "metadata": {},
   "outputs": [
    {
     "name": "stdout",
     "output_type": "stream",
     "text": [
      "AC/DC's rating is: 0.0\n",
      "Deep Purple's rating is:  10.0\n",
      "My favourite band is: AC/DC\n"
     ]
    }
   ],
   "source": [
    "# Example of global variable and local variable with the same name\n",
    "\n",
    "myFavouriteBand = \"AC/DC\"\n",
    "\n",
    "def getBandRating(bandname):\n",
    "    myFavouriteBand = \"Deep Purple\"\n",
    "    if bandname == myFavouriteBand:\n",
    "        return 10.0\n",
    "    else:\n",
    "        return 0.0\n",
    "\n",
    "print(\"AC/DC's rating is:\",getBandRating(\"AC/DC\"))\n",
    "print(\"Deep Purple's rating is: \",getBandRating(\"Deep Purple\"))\n",
    "print(\"My favourite band is:\",myFavouriteBand)"
   ]
  },
  {
   "cell_type": "markdown",
   "id": "c6c3afe7-d48d-4c6e-bd56-076140136477",
   "metadata": {},
   "source": [
    "##### Collections and Functions"
   ]
  },
  {
   "cell_type": "markdown",
   "id": "a6e42b0c-37fa-4789-a527-dbd3591608dc",
   "metadata": {},
   "source": [
    "When the number of arguments are unknown for a function, They can all be packed into a tuple as shown:"
   ]
  },
  {
   "cell_type": "code",
   "execution_count": 130,
   "id": "6499a870-8b69-4c85-b9c3-de6c131814da",
   "metadata": {},
   "outputs": [
    {
     "name": "stdout",
     "output_type": "stream",
     "text": [
      "No of arguments: 3\n",
      "Horsefeather\n",
      "Adonis\n",
      "Bone\n",
      "No of arguments: 4\n",
      "Sidecar\n",
      "Long Island\n",
      "Mudslide\n",
      "Carriage\n"
     ]
    }
   ],
   "source": [
    "def printAll(*args): # All the arguments are 'packed' into args which can be treated like a tuple\n",
    "    print(\"No of arguments:\", len(args)) \n",
    "    for argument in args:\n",
    "        print(argument)\n",
    "#printAll with 3 arguments\n",
    "printAll('Horsefeather','Adonis','Bone')\n",
    "#printAll with 4 arguments\n",
    "printAll('Sidecar','Long Island','Mudslide','Carriage')"
   ]
  },
  {
   "cell_type": "markdown",
   "id": "e63a7b09-1387-4e13-8d57-94387add5727",
   "metadata": {},
   "source": [
    "Similarly, The arguments can also be packed into a dictionary as shown:"
   ]
  },
  {
   "cell_type": "code",
   "execution_count": 131,
   "id": "5d589a67-20fa-4127-b63a-779668ff0ef7",
   "metadata": {},
   "outputs": [
    {
     "name": "stdout",
     "output_type": "stream",
     "text": [
      "Country : Canada\n",
      "Province : Ontario\n",
      "City : Toronto\n"
     ]
    }
   ],
   "source": [
    "def printDictionary(**args):\n",
    "    for key in args:\n",
    "        print(key + \" : \" + args[key])\n",
    "\n",
    "printDictionary(Country='Canada',Province='Ontario',City='Toronto')\n",
    "    "
   ]
  },
  {
   "cell_type": "markdown",
   "id": "c942ebca-048f-415d-bf63-0406a4885651",
   "metadata": {},
   "source": [
    "Functions can be incredibly powerful and versatile. They can accept (and return) data types, objects and even other functions as arguements. Consider the example below:"
   ]
  },
  {
   "cell_type": "code",
   "execution_count": 132,
   "id": "d1790d93-51b0-41bc-aa02-1c765dadfb0f",
   "metadata": {},
   "outputs": [
    {
     "data": {
      "text/plain": [
       "['One', 'Two', 'Three', 'Four']"
      ]
     },
     "execution_count": 132,
     "metadata": {},
     "output_type": "execute_result"
    }
   ],
   "source": [
    "def addItems(list):\n",
    "    list.append(\"Three\")\n",
    "    list.append(\"Four\")\n",
    "\n",
    "myList = [\"One\",\"Two\"]\n",
    "\n",
    "addItems(myList)\n",
    "\n",
    "myList\n",
    "    "
   ]
  },
  {
   "cell_type": "markdown",
   "id": "98a15b4b-074b-4f3a-8dc0-5723c77a0e6c",
   "metadata": {},
   "source": [
    "Note how the changes made to the list are not limited to the functions scope. This occurs as it is the lists reference that is passed to the function - Any changes made are on the orignal instance of the list. Therefore, one should be cautious when passing mutable objects into functions.\n",
    "\n"
   ]
  },
  {
   "cell_type": "code",
   "execution_count": 133,
   "id": "f5365643-5746-4399-939d-51d45b222fcb",
   "metadata": {},
   "outputs": [],
   "source": [
    "# Come up with a function that divides the first input by the second input:\n",
    "def div(a, b):\n",
    "    return(a/b)"
   ]
  },
  {
   "cell_type": "code",
   "execution_count": 134,
   "id": "51517354-1597-4977-be32-d2b596d95e30",
   "metadata": {},
   "outputs": [],
   "source": [
    "# Use the con function for the following question\n",
    "\n",
    "def con(a, b):\n",
    "    return(a + b)"
   ]
  },
  {
   "cell_type": "markdown",
   "id": "4aa7679b-0952-4be5-931c-c6b986efa86a",
   "metadata": {},
   "source": [
    "Can the con function we defined before be used to add two integers or strings?"
   ]
  },
  {
   "cell_type": "code",
   "execution_count": 136,
   "id": "aad93002-55e5-45f8-851a-109562859234",
   "metadata": {},
   "outputs": [
    {
     "data": {
      "text/plain": [
       "4"
      ]
     },
     "execution_count": 136,
     "metadata": {},
     "output_type": "execute_result"
    }
   ],
   "source": [
    "# Yes, for example: \n",
    "con(2, 9)"
   ]
  },
  {
   "cell_type": "markdown",
   "id": "a8974e60-4869-4bec-9047-00f79b174291",
   "metadata": {},
   "source": [
    "Can the con function we defined before be used to concatenate lists or tuples?"
   ]
  },
  {
   "cell_type": "code",
   "execution_count": 137,
   "id": "bf2286d5-58d7-434f-90d2-736645225dbd",
   "metadata": {},
   "outputs": [
    {
     "data": {
      "text/plain": [
       "['a', 1, 'b', 1]"
      ]
     },
     "execution_count": 137,
     "metadata": {},
     "output_type": "execute_result"
    }
   ],
   "source": [
    "# Yes, for example: \n",
    "con(['a', 1], ['b', 1])"
   ]
  },
  {
   "cell_type": "markdown",
   "id": "cdd40e0a-49c3-480b-8117-506fc5f91b29",
   "metadata": {},
   "source": [
    "Write a function code to find total count of word little in the given string: \"Mary had a little lamb Little lamb, little lamb Mary had a little lamb.Its fleece was white as snow And everywhere that Mary went Mary went, Mary went Everywhere that Mary went The lamb was sure to go\"**"
   ]
  },
  {
   "cell_type": "code",
   "execution_count": 138,
   "id": "93a90530-d457-485e-8b78-aeef8c4bd593",
   "metadata": {},
   "outputs": [
    {
     "name": "stdout",
     "output_type": "stream",
     "text": [
      "Total Count: {'little': 3}\n"
     ]
    }
   ],
   "source": [
    "# Python Program to Count words in a String using Dictionary\n",
    "def freq(string,passedkey):\n",
    "\n",
    "    #step1: A list variable is declared and initialized to an empty list.\n",
    "    words = []\n",
    "\n",
    "    #step2: Break the string into list of words\n",
    "    words = string.split() # or string.lower().split()\n",
    "\n",
    "    #step3: Declare a dictionary\n",
    "    Dict = {}\n",
    "\n",
    "    #step4: Use for loop to iterate words and values to the dictionary\n",
    "    for key in words:\n",
    "        if(key == passedkey):\n",
    "            Dict[key] = words.count(key)   \n",
    "    #step5: Print the dictionary\n",
    "    print(\"Total Count:\",Dict)\n",
    "\n",
    "#step6: Call function and pass string in it\n",
    "freq(\"Mary had a little lamb Little lamb, little lamb Mary had a little lamb.Its fleece was white as snow And everywhere that Mary went Mary went, Mary went \\\n",
    "Everywhere that Mary went The lamb was sure to go\",\"little\")"
   ]
  },
  {
   "cell_type": "code",
   "execution_count": null,
   "id": "c82d0eae-26e8-4204-a53e-b20095d07683",
   "metadata": {},
   "outputs": [],
   "source": []
  },
  {
   "cell_type": "markdown",
   "id": "ff9b03c2-ad41-4484-98f8-7290febbc6b7",
   "metadata": {},
   "source": [
    "## Exception Handling"
   ]
  },
  {
   "cell_type": "markdown",
   "id": "92c0959f-e5b8-4d23-8e67-3e399283578c",
   "metadata": {},
   "source": [
    "What is an Exception? An exception is an error that occurs during the execution of code. This error causes the code to raise an exception and if not prepared to handle it will halt the execution of the code."
   ]
  },
  {
   "cell_type": "markdown",
   "id": "fdf095b1-82a4-4f5a-bd0f-e8c4ad627bd3",
   "metadata": {},
   "source": [
    "Examples"
   ]
  },
  {
   "cell_type": "code",
   "execution_count": 1,
   "id": "d8c73d19-0d47-44ac-98e4-ddd5992b452f",
   "metadata": {},
   "outputs": [
    {
     "ename": "ZeroDivisionError",
     "evalue": "division by zero",
     "output_type": "error",
     "traceback": [
      "\u001b[1;31m---------------------------------------------------------------------------\u001b[0m",
      "\u001b[1;31mZeroDivisionError\u001b[0m                         Traceback (most recent call last)",
      "Cell \u001b[1;32mIn[1], line 2\u001b[0m\n\u001b[0;32m      1\u001b[0m \u001b[38;5;66;03m# ZeroDivisionError occurs when you try to divide by zero.\u001b[39;00m\n\u001b[1;32m----> 2\u001b[0m \u001b[38;5;241m1\u001b[39m\u001b[38;5;241m/\u001b[39m\u001b[38;5;241m0\u001b[39m\n",
      "\u001b[1;31mZeroDivisionError\u001b[0m: division by zero"
     ]
    }
   ],
   "source": [
    "# ZeroDivisionError occurs when you try to divide by zero.\n",
    "1/0"
   ]
  },
  {
   "cell_type": "code",
   "execution_count": 2,
   "id": "18794a5a-2cd6-44ad-91ad-9502f8436f95",
   "metadata": {},
   "outputs": [
    {
     "ename": "IndexError",
     "evalue": "list index out of range",
     "output_type": "error",
     "traceback": [
      "\u001b[1;31m---------------------------------------------------------------------------\u001b[0m",
      "\u001b[1;31mIndexError\u001b[0m                                Traceback (most recent call last)",
      "Cell \u001b[1;32mIn[2], line 3\u001b[0m\n\u001b[0;32m      1\u001b[0m \u001b[38;5;66;03m# NameError -- in this case, it means that you tried to use the variable a when it was not defined.\u001b[39;00m\n\u001b[0;32m      2\u001b[0m a \u001b[38;5;241m=\u001b[39m [\u001b[38;5;241m1\u001b[39m, \u001b[38;5;241m2\u001b[39m, \u001b[38;5;241m3\u001b[39m]\n\u001b[1;32m----> 3\u001b[0m a[\u001b[38;5;241m10\u001b[39m]\n",
      "\u001b[1;31mIndexError\u001b[0m: list index out of range"
     ]
    }
   ],
   "source": [
    "# NameError -- in this case, it means that you tried to use the variable a when it was not defined.\n",
    "a = [1, 2, 3]\n",
    "a[10]"
   ]
  },
  {
   "cell_type": "markdown",
   "id": "9c83f23a-55fa-4fb4-bbf6-6d5faeb6a06a",
   "metadata": {},
   "source": [
    "There are many more exceptions that are built into Python, here is a list of them https://docs.python.org/3/library/exceptions.html"
   ]
  },
  {
   "cell_type": "markdown",
   "id": "e984c150-591f-4917-b99e-6db0862814b9",
   "metadata": {},
   "source": [
    "#### Exception Handling"
   ]
  },
  {
   "cell_type": "markdown",
   "id": "baac2531-1bb7-4d4e-9350-95a874eda86a",
   "metadata": {},
   "source": [
    "In this section you will learn how to handle exceptions. You will understand how to make your program perform specified tasks instead of halting code execution when an exception is encountered"
   ]
  },
  {
   "cell_type": "markdown",
   "id": "1a82a6b1-3925-4f0a-ab39-7fc958937964",
   "metadata": {},
   "source": [
    "##### Try Except"
   ]
  },
  {
   "cell_type": "markdown",
   "id": "4bb872b8-2d37-4adb-84a6-bb8fdf596d54",
   "metadata": {},
   "source": [
    "A try except will allow you to execute code that might raise an exception and in the case of any exception or a specific one we can handle or catch the exception and execute specific code. This will allow us to continue the execution of our program even if there is an exception.\n",
    "\n",
    "Python tries to execute the code in the try block. In this case if there is any exception raised by the code in the try block, it will be caught and the code block in the except block will be executed. After that, the code that comes after the try except will be executed."
   ]
  },
  {
   "cell_type": "code",
   "execution_count": 3,
   "id": "69e88f27-f0e3-43fd-8624-ad151232ce28",
   "metadata": {},
   "outputs": [
    {
     "ename": "IndentationError",
     "evalue": "expected an indented block after 'try' statement on line 3 (4107979928.py, line 5)",
     "output_type": "error",
     "traceback": [
      "\u001b[1;36m  Cell \u001b[1;32mIn[3], line 5\u001b[1;36m\u001b[0m\n\u001b[1;33m    except:\u001b[0m\n\u001b[1;37m    ^\u001b[0m\n\u001b[1;31mIndentationError\u001b[0m\u001b[1;31m:\u001b[0m expected an indented block after 'try' statement on line 3\n"
     ]
    }
   ],
   "source": [
    "# potential code before try catch\n",
    "\n",
    "try:\n",
    "    # code to try to execute\n",
    "except:\n",
    "    # code to execute if there is an exception\n",
    "    \n",
    "# code that will still execute if there is an exception"
   ]
  },
  {
   "cell_type": "markdown",
   "id": "90c567eb-3922-451b-9720-4a3b9be87b67",
   "metadata": {},
   "source": [
    "In this example we are trying to divide a number given by the user, save the outcome in the variable a, and then we would like to print the result of the operation. When taking user input and dividing a number by it there are a couple of exceptions that can be raised. For example if we divide by zero. Try running the following block of code with b as a number. An exception will only be raised if b is zero."
   ]
  },
  {
   "cell_type": "code",
   "execution_count": null,
   "id": "f63dd75e-03c4-47f8-8e53-416a49e1a5b2",
   "metadata": {},
   "outputs": [],
   "source": [
    "a = 1\n",
    "\n",
    "try:\n",
    "    b = int(input(\"Please enter a number to divide a\"))\n",
    "    a = a/b\n",
    "    print(\"Success a=\",a)\n",
    "except:\n",
    "    print(\"There was an error\")"
   ]
  },
  {
   "cell_type": "markdown",
   "id": "d626e473-a471-48fb-977d-8441a1337549",
   "metadata": {},
   "source": [
    "##### Try Except Specific"
   ]
  },
  {
   "cell_type": "markdown",
   "id": "dd7a4b74-7ebb-4e2d-bd64-821dc3633f39",
   "metadata": {},
   "source": [
    "A specific try except allows you to catch certain exceptions and also execute certain code depending on the exception. This is useful if you do not want to deal with some exceptions and the execution should halt. It can also help you find errors in your code that you might not be aware of. Furthermore, it can help you differentiate responses to different exceptions. In this case, the code after the try except might not run depending on the error."
   ]
  },
  {
   "cell_type": "markdown",
   "id": "1c0afdd1-31d3-461c-bfa5-01b215dfce79",
   "metadata": {},
   "source": [
    "Do not run, just to illustrate:"
   ]
  },
  {
   "cell_type": "code",
   "execution_count": null,
   "id": "78e48f5c-598e-4a3c-8215-255f71fd7535",
   "metadata": {},
   "outputs": [],
   "source": [
    "# potential code before try catch\n",
    "\n",
    "try:\n",
    "    # code to try to execute\n",
    "except (ZeroDivisionError, NameError):\n",
    "    # code to execute if there is an exception of the given types\n",
    "    \n",
    "# code that will execute if there is no exception or a one that we are handling"
   ]
  },
  {
   "cell_type": "code",
   "execution_count": null,
   "id": "a27013d6-94e6-4a87-89f0-8feae9e0389b",
   "metadata": {},
   "outputs": [],
   "source": [
    "# potential code before try catch\n",
    "\n",
    "try:\n",
    "    # code to try to execute\n",
    "except ZeroDivisionError:\n",
    "    # code to execute if there is a ZeroDivisionError\n",
    "except NameError:\n",
    "    # code to execute if there is a NameError\n",
    "    \n",
    "# code that will execute if there is no exception or a one that we are handling"
   ]
  },
  {
   "cell_type": "markdown",
   "id": "6888d342-cff9-4a56-9d78-599569af16b9",
   "metadata": {},
   "source": [
    "You can also have an empty except at the end to catch an unexpected exception:"
   ]
  },
  {
   "cell_type": "markdown",
   "id": "d24367f6-811a-46ab-996d-aab60eed942d",
   "metadata": {},
   "source": [
    "Do not run, just to illustrate:"
   ]
  },
  {
   "cell_type": "code",
   "execution_count": null,
   "id": "770a0714-6f22-4bfa-a470-8492aa5c0b9a",
   "metadata": {},
   "outputs": [],
   "source": [
    "# potential code before try catch\n",
    "\n",
    "try:\n",
    "    # code to try to execute\n",
    "except ZeroDivisionError:\n",
    "    # code to execute if there is a ZeroDivisionError\n",
    "except NameError:\n",
    "    # code to execute if there is a NameError\n",
    "except:\n",
    "    # code to execute if ther is any exception\n",
    "    \n",
    "# code that will execute if there is no exception or a one that we are handling"
   ]
  },
  {
   "cell_type": "markdown",
   "id": "9f941dc1-a063-492c-9c44-cdcba69699a7",
   "metadata": {},
   "source": [
    "Try Except Specific Example"
   ]
  },
  {
   "cell_type": "markdown",
   "id": "d3ea1178-1a69-40f0-89f7-cd9ef6259e4e",
   "metadata": {},
   "source": [
    "This is the same example as above, but now we will add differentiated messages depending on the exception, letting the user know what is wrong with the input."
   ]
  },
  {
   "cell_type": "code",
   "execution_count": null,
   "id": "e850df38-eef9-4f2b-870a-df68777ab447",
   "metadata": {},
   "outputs": [],
   "source": [
    "a = 1\n",
    "​\n",
    "try:\n",
    "    b = int(input(\"Please enter a number to divide a\"))\n",
    "    a = a/b\n",
    "    print(\"Success a=\",a)\n",
    "except ZeroDivisionError:\n",
    "    print(\"The number you provided cant divide 1 because it is 0\")\n",
    "except ValueError:\n",
    "    print(\"You did not provide a number\")\n",
    "except:\n",
    "    print(\"Something went wrong\")\n",
    "        "
   ]
  },
  {
   "cell_type": "markdown",
   "id": "9887168b-a620-4568-aaa4-73d562725911",
   "metadata": {},
   "source": [
    "Try Except Else and Finally"
   ]
  },
  {
   "cell_type": "markdown",
   "id": "43deab85-b3e3-4a4f-896e-60a5544edd4f",
   "metadata": {},
   "source": [
    "else allows one to check if there was no exception when executing the try block. This is useful when we want to execute something only if there were no errors."
   ]
  },
  {
   "cell_type": "markdown",
   "id": "56aa47fe-8bd5-4985-be37-1ef3dddab947",
   "metadata": {},
   "source": [
    "do not run, just to illustrate"
   ]
  },
  {
   "cell_type": "code",
   "execution_count": null,
   "id": "0f858934-fe12-468a-b7c0-83d33ad95583",
   "metadata": {},
   "outputs": [],
   "source": [
    "# potential code before try catch\n",
    "\n",
    "try:\n",
    "    # code to try to execute\n",
    "except ZeroDivisionError:\n",
    "    # code to execute if there is a ZeroDivisionError\n",
    "except NameError:\n",
    "    # code to execute if there is a NameError\n",
    "except:\n",
    "    # code to execute if ther is any exception\n",
    "else:\n",
    "    # code to execute if there is no exception\n",
    "    \n",
    "# code that will execute if there is no exception or a one that we are handling"
   ]
  },
  {
   "cell_type": "markdown",
   "id": "923612f9-6282-4adc-a013-a61601d58dc4",
   "metadata": {},
   "source": [
    "finally allows us to always execute something even if there is an exception or not. This is usually used to signify the end of the try except."
   ]
  },
  {
   "cell_type": "code",
   "execution_count": null,
   "id": "b8131248-2ed7-457f-80f8-b4fe074910f4",
   "metadata": {},
   "outputs": [],
   "source": [
    "# potential code before try catch\n",
    "\n",
    "try:\n",
    "    # code to try to execute\n",
    "except ZeroDivisionError:\n",
    "    # code to execute if there is a ZeroDivisionError\n",
    "except NameError:\n",
    "    # code to execute if there is a NameError\n",
    "except:\n",
    "    # code to execute if ther is any exception\n",
    "else:\n",
    "    # code to execute if there is no exception\n",
    "finally:\n",
    "    # code to execute at the end of the try except no matter what\n",
    "    \n",
    "# code that will execute if there is no exception or a one that we are handling"
   ]
  },
  {
   "cell_type": "markdown",
   "id": "b95b32bc-7575-44db-ab3c-1e68f0d2a2a1",
   "metadata": {},
   "source": [
    "Try Except Else and Finally Example"
   ]
  },
  {
   "cell_type": "markdown",
   "id": "b7e25bf5-4092-4166-9171-4b3c8e68508a",
   "metadata": {},
   "source": [
    "You might have noticed that even if there is an error the value of a is always printed. Let's use the else and print the value of a only if there is no error."
   ]
  },
  {
   "cell_type": "code",
   "execution_count": null,
   "id": "7b0f82cf-6216-4562-b9c3-7a6920eabd2f",
   "metadata": {},
   "outputs": [],
   "source": [
    "a = 1\n",
    "\n",
    "try:\n",
    "    b = int(input(\"Please enter a number to divide a\"))\n",
    "    a = a/b\n",
    "except ZeroDivisionError:\n",
    "    print(\"The number you provided cant divide 1 because it is 0\")\n",
    "except ValueError:\n",
    "    print(\"You did not provide a number\")\n",
    "except:\n",
    "    print(\"Something went wrong\")\n",
    "else:\n",
    "    print(\"success a=\",a)"
   ]
  },
  {
   "cell_type": "markdown",
   "id": "f0c8348e-585f-4f4e-b78b-7521f39941ef",
   "metadata": {},
   "source": [
    "Now lets let the user know that we are done processing their answer. Using the finally, let's add a print."
   ]
  },
  {
   "cell_type": "markdown",
   "id": "0d13a2dd-9b20-45a8-9b41-fb46f5a29225",
   "metadata": {},
   "source": [
    "##### Exercise 1: Handling ZeroDivisionError"
   ]
  },
  {
   "cell_type": "markdown",
   "id": "3a33f9cb-7a95-4c42-9d06-e312cd765afe",
   "metadata": {},
   "source": [
    "Imagine you have two numbers and want to determine what happens when you divide one number by the other. To do this, you need to create a Python function called safe_divide. You give this function two numbers, a 'numerator' and a 'denominator'. The 'numerator' is the number you want to divide, and the 'denominator' is the number you want to divide by. Use the user input method of Python to take the values.\n",
    "\n",
    "The function should be able to do the division for you and give you the result. But here's the catch: if you try to divide by zero (which is not allowed in math), the function should be smart enough to catch that and tell you that it's not possible to divide by zero. Instead of showing an error, it should return None, which means 'nothing' or 'no value', and print \"Error: Cannot divide by Zero."
   ]
  },
  {
   "cell_type": "markdown",
   "id": "4aaf630b-8834-40ff-bb9b-ee846ea5ac36",
   "metadata": {},
   "source": [
    "Note:- Practice handling exceptions by trying different input types like using integers, strings, zero, negative values, or other data types."
   ]
  },
  {
   "cell_type": "markdown",
   "id": "1436daf9-f843-435b-ab24-72c4177f9e4e",
   "metadata": {},
   "source": [
    "Follow these: -\n",
    "\n",
    "* Define a function to perform the division and use two arguments.\n",
    "* Use the try-except block to handle ZeroDivisionError.\n",
    "* Return the result of the division if no error occurs.\n",
    "* Return None if division by zero occurs.\n",
    "* take user input for numerator and denominator values.\n",
    "* call and print your function with the user inputs.\n",
    "**Note:- Test with different inputs to validate error handling.**"
   ]
  },
  {
   "cell_type": "code",
   "execution_count": null,
   "id": "ae88ed3f-5976-4c69-a24e-ceec1ab0026e",
   "metadata": {},
   "outputs": [],
   "source": [
    "def safe_divide(numerator,denominator):\n",
    "    try:\n",
    "        result = numerator / denominator\n",
    "        return result\n",
    "    except ZeroDivisionError:\n",
    "        print(\"Error: Cannot divide by zero.\")\n",
    "        return None\n",
    "# Test case\n",
    "numerator=int(input(\"Enter the numerator value:-\"))\n",
    "denominator=int(input(\"Enter the denominator value:-\"))\n",
    "print(safe_divide(numerator,denominator)) "
   ]
  },
  {
   "cell_type": "markdown",
   "id": "10ed98ab-06d3-47f6-ae42-f29a06932dee",
   "metadata": {},
   "source": [
    "##### Exercise 2: Handling ValueError"
   ]
  },
  {
   "cell_type": "markdown",
   "id": "2e374b5c-a17e-45b6-bb84-ea2009db3d8d",
   "metadata": {},
   "source": [
    "Imagine you have a number and want to calculate its square root. To do this, you need to create a Python function. You give this function one number, 'number1'.\n",
    "\n",
    "The function should generate the square root value if you provide a positive integer or float value as input. However, the function should be clever enough to detect the mistake if you enter a negative value. It should kindly inform you with a message saying, 'Invalid input! Please enter a positive integer or a float value."
   ]
  },
  {
   "cell_type": "markdown",
   "id": "4bbb1de6-1424-4ca9-81d1-24c247eb83d5",
   "metadata": {},
   "source": [
    "Follow these:-\n",
    "\n",
    "* Define a function to perform square root of the argument. \n",
    "* Use try-except block for error handling.\n",
    "* Use `sqrt()` function from the `math` package to calculate the square root. Catch ValueError and display the error message.\"\n",
    "* Take user input of the value, number1. \n",
    "* Test with negative numbers to validate error handling."
   ]
  },
  {
   "cell_type": "markdown",
   "id": "13a39c18-1278-4042-8bf9-59fb7b4ba865",
   "metadata": {},
   "source": [
    "Note:- Test with different inputs to validate error handling."
   ]
  },
  {
   "cell_type": "code",
   "execution_count": null,
   "id": "f250004f-a581-43f0-88ed-253afb3d28a5",
   "metadata": {},
   "outputs": [],
   "source": [
    "import math\n",
    "\n",
    "def perform_calculation(number1):\n",
    "    try:\n",
    "        result = math.sqrt(number1)\n",
    "        print(f\"Result: {result}\")\n",
    "    except ValueError:\n",
    "        print(\"Error: Invalid input! Please enter a positive integer or a float value.\")\n",
    "# Test case\n",
    "number1=float(input(\"Enter the number:-\"))\n",
    "perform_calculation(number1)"
   ]
  },
  {
   "cell_type": "markdown",
   "id": "c46cdf88-7c8b-4ea2-ae45-6f46ee123fcb",
   "metadata": {},
   "source": [
    "##### Exercise 3: Handling Generic Exceptions"
   ]
  },
  {
   "cell_type": "markdown",
   "id": "938802b5-cb5b-44b4-aec0-d1a05b984cbc",
   "metadata": {},
   "source": [
    "Imagine you have a number and want to perform a complex mathematical task. The calculation requires dividing the value of the input argument \"num\" by the difference between \"num\" and 5, and the result has to be stored in a variable called \"result\".\n",
    "\n",
    "You have to define a function so that it can perform that complex mathematical task. The function should handle any potential errors that occur during the calculation. To do this, you can use a try-except block. If any exception arises during the calculation, it should catch the error using the generic exception class \"Exception\" as \"e\". When an exception occurs, the function should display \"An error occurred during calculation."
   ]
  },
  {
   "cell_type": "markdown",
   "id": "3589a177-564a-4a04-a24f-50f0b1c1012e",
   "metadata": {},
   "source": [
    "Follow these:-\n",
    "* Define a function for the complex calculation and pass any argument.\n",
    "* Use a try-except block for error handling.\n",
    "* Perform the calculation and store the result in \"result.\"\n",
    "* Catch any exceptions using Exception as e.\n",
    "* Display \"An error occurred during calculation.\" when an exception is caught.\n",
    "* take user input\n",
    "* Call the defined function with the user input\n",
    "**Note:- Test with different inputs to validate error handling.**"
   ]
  },
  {
   "cell_type": "code",
   "execution_count": null,
   "id": "82b4db49-b47f-45b4-bded-a427019b47a3",
   "metadata": {},
   "outputs": [],
   "source": [
    "def complex_calculation(num):\n",
    "    try:\n",
    "        result = num / (num - 5)\n",
    "        print (f\"Result: {result}\")\n",
    "    except Exception as e:\n",
    "        print(\"An error occurred during calculation.\")\n",
    "# Test case\n",
    "user_input = float(input(\"Enter a number: \"))\n",
    "complex_calculation(user_input)"
   ]
  },
  {
   "cell_type": "code",
   "execution_count": null,
   "id": "0639d00a-1e5f-4d68-b104-ce2fa35327eb",
   "metadata": {},
   "outputs": [],
   "source": []
  },
  {
   "cell_type": "code",
   "execution_count": 2,
   "id": "737c1ab2-0f80-4c96-808a-054b048df7b8",
   "metadata": {},
   "outputs": [
    {
     "name": "stdout",
     "output_type": "stream",
     "text": [
      "80\n"
     ]
    }
   ],
   "source": [
    "class Graph():\n",
    "    def __init__(self, id):\n",
    "        self.id = id\n",
    "        self.id = 80\n",
    "\n",
    "\n",
    "val = Graph(200)\n",
    "print(val.id)"
   ]
  },
  {
   "cell_type": "code",
   "execution_count": 3,
   "id": "7cf2c4a4-230e-41d8-b171-1139f493682f",
   "metadata": {},
   "outputs": [],
   "source": [
    "class Vehicle:\n",
    "    color = \"white\"\n",
    "\n",
    "\n",
    "    def __init__(self, max_speed, mileage):\n",
    "        self.max_speed = max_speed\n",
    "        self.mileage = mileage\n",
    "        self.seating_capacity = None\n",
    "\n",
    "\n",
    "    def assign_seating_capacity(self, seating_capacity):\n",
    "        self.seating_capacity = seating_capacity\n",
    "\n",
    "\n",
    "V1 = Vehicle(150, 25)"
   ]
  },
  {
   "cell_type": "code",
   "execution_count": 4,
   "id": "2915e683-0936-455e-856a-af4f40aba0c7",
   "metadata": {},
   "outputs": [],
   "source": [
    "class Vehicle:\n",
    "    color = \"white\"\n",
    "\n",
    "\n",
    "    def __init__(self, max_speed, mileage):\n",
    "        self.max_speed = max_speed\n",
    "        self.mileage = mileage\n",
    "        self.seating_capacity = None\n",
    "\n",
    "\n",
    "    def assign_seating_capacity(self, seating_capacity):\n",
    "        self.seating_capacity = seating_capacity\n",
    "\n",
    "\n",
    "V1 = Vehicle(150, 25)"
   ]
  },
  {
   "cell_type": "code",
   "execution_count": null,
   "id": "e16d46df-0059-4124-83ed-903ff93c071e",
   "metadata": {},
   "outputs": [],
   "source": []
  },
  {
   "cell_type": "markdown",
   "id": "5f683e5f-8111-47d8-abab-1ec6880a0f75",
   "metadata": {},
   "source": [
    "## Introduction to Classes and Objects"
   ]
  },
  {
   "cell_type": "markdown",
   "id": "6a5f1add-adf2-42f2-91e1-59d33b86ab15",
   "metadata": {},
   "source": [
    "Creating a Class"
   ]
  },
  {
   "cell_type": "markdown",
   "id": "194e3e05-3c61-4a6f-a4f1-ea701663c445",
   "metadata": {},
   "source": [
    "The first step in creating a class is giving it a name. In this notebook, we will create two classes: Circle and Rectangle. We need to determine all the data that make up that class, which we call attributes. Think about this step as creating a blue print that we will use to create objects. In figure 1 we see two classes, Circle and Rectangle. Each has their attributes, which are variables. The class Circle has the attribute radius and color, while the Rectangle class has the attribute height and width. Let’s use the visual examples of these shapes before we get to the code, as this will help you get accustomed to the vocabulary."
   ]
  },
  {
   "cell_type": "markdown",
   "id": "f31320d3-abd4-4a4e-aa2c-3b6a0917b415",
   "metadata": {},
   "source": [
    "<img src=\"https://cf-courses-data.s3.us.cloud-object-storage.appdomain.cloud/IBMDeveloperSkillsNetwork-PY0101EN-SkillsNetwork/labs/Module%203/images/ClassesClass.png\" width=\"500\">"
   ]
  },
  {
   "cell_type": "markdown",
   "id": "66dd8abf-b7be-4d84-ad73-6cef498f033b",
   "metadata": {},
   "source": [
    "*Figure 1: Classes circle and rectangle, and each has their own attributes. The class Circle has the attribute radius and colour, the class Rectangle has the attributes height and width.*"
   ]
  },
  {
   "cell_type": "markdown",
   "id": "a2134e65-5e85-4429-8000-2eca1060b5ce",
   "metadata": {},
   "source": [
    "Instances of a Class: Objects and Attributes"
   ]
  },
  {
   "cell_type": "markdown",
   "id": "0c982538-e16d-4c42-a03c-afcb308219f9",
   "metadata": {},
   "source": [
    "An instance of an object is the realisation of a class, and in Figure 2 we see three instances of the class circle. We give each object a name: red circle, yellow circle, and green circle. Each object has different attributes, so let's focus on the color attribute for each object."
   ]
  },
  {
   "cell_type": "markdown",
   "id": "fe58963e-cf6c-4e21-8491-f707159b594b",
   "metadata": {},
   "source": [
    "<img src=\"https://cf-courses-data.s3.us.cloud-object-storage.appdomain.cloud/IBMDeveloperSkillsNetwork-PY0101EN-SkillsNetwork/labs/Module%203/images/ClassesObj.png\" width=\"500\">"
   ]
  },
  {
   "cell_type": "markdown",
   "id": "8679567c-4fa5-4313-90be-55679a03bccb",
   "metadata": {},
   "source": [
    "*Figure 2: Three instances of the class Circle, or three objects of type Circle.*"
   ]
  },
  {
   "cell_type": "markdown",
   "id": "c095ace7-a71c-4d0e-9e30-f99bb3c85ca3",
   "metadata": {},
   "source": [
    "The colour attribute for the red Circle is the colour red, for the green Circle object the colour attribute is green, and for the yellow Circle the colour attribute is yellow."
   ]
  },
  {
   "cell_type": "markdown",
   "id": "84d3be96-2a0d-4243-93c3-52df9ab5a721",
   "metadata": {},
   "source": [
    "##### Methods"
   ]
  },
  {
   "cell_type": "markdown",
   "id": "495deb5e-e267-4f4b-873c-1481f8cdae01",
   "metadata": {},
   "source": [
    "Methods give you a way to change or interact with the object; they are functions that interact with objects. For example, let’s say we would like to increase the radius of a circle by a specified amount. We can create a method called add_radius(r) that increases the radius by r. This is shown in figure 3, where after applying the method to the \"orange circle object\", the radius of the object increases accordingly. The “dot” notation means to apply the method to the object, which is essentially applying a function to the information in the object."
   ]
  },
  {
   "cell_type": "markdown",
   "id": "048e91cf-88b8-4cab-ace7-076f1036e3b7",
   "metadata": {},
   "source": [
    "<img src=\"https://cf-courses-data.s3.us.cloud-object-storage.appdomain.cloud/IBMDeveloperSkillsNetwork-PY0101EN-SkillsNetwork/labs/Module%203/images/ClassesMethod.png\" width=\"500\"> "
   ]
  },
  {
   "cell_type": "markdown",
   "id": "4e397a07-2314-4645-8ea7-aa72dd98d7c0",
   "metadata": {},
   "source": [
    "*Figure 3: Applying the method “add_radius” to the object orange circle object.*"
   ]
  },
  {
   "cell_type": "markdown",
   "id": "0a9ff248-bb30-453d-9867-e6c6cb6e5eb6",
   "metadata": {},
   "source": [
    "##### Creating a Class"
   ]
  },
  {
   "cell_type": "markdown",
   "id": "45d2374d-e9d3-42ed-946d-b9d3b9cb52e2",
   "metadata": {},
   "source": [
    "Now we are going to create a class Circle, but first, we are going to import a library to draw the objects:"
   ]
  },
  {
   "cell_type": "code",
   "execution_count": 3,
   "id": "e050efe5-eb33-4473-8b49-cfdb7d9a6e66",
   "metadata": {},
   "outputs": [],
   "source": [
    "# Import the library\n",
    "\n",
    "%matplotlib inline"
   ]
  },
  {
   "cell_type": "markdown",
   "id": "8bed79da-1152-4c6f-ac39-1f8510e7be07",
   "metadata": {},
   "source": [
    "The first step in creating your own class is to use the class keyword, then the name of the class as shown in Figure 4. In this course the class parent will always be object:"
   ]
  },
  {
   "cell_type": "markdown",
   "id": "78fe3455-8837-472c-a39c-67ebeaf896f0",
   "metadata": {},
   "source": [
    "<img src=\"https://cf-courses-data.s3.us.cloud-object-storage.appdomain.cloud/IBMDeveloperSkillsNetwork-PY0101EN-SkillsNetwork/labs/Module%203/images/ClassesDefine.png\" width=\"400\">"
   ]
  },
  {
   "cell_type": "markdown",
   "id": "836a82d8-434d-4c31-9989-5f02715596f5",
   "metadata": {},
   "source": [
    "*Figure 4: Creating a class Circle.*"
   ]
  },
  {
   "cell_type": "markdown",
   "id": "72016652-68ee-4926-a705-d92556076f55",
   "metadata": {},
   "source": [
    "The next step is a special method called a constructor __init__, which is used to initialize the object. The inputs are data attributes. The term self contains all the attributes in the set. For example the self.color gives the value of the attribute color and self.radius will give you the radius of the object. We also have the method add_radius() with the parameter r, the method adds the value of r to the attribute radius. To access the radius we use the syntax self.radius. The labeled syntax is summarized in Figure 5:"
   ]
  },
  {
   "cell_type": "markdown",
   "id": "8fa49bfe-332d-4f1b-b38e-5e0bf7007932",
   "metadata": {},
   "source": [
    "<img src=\"https://cf-courses-data.s3.us.cloud-object-storage.appdomain.cloud/IBMDeveloperSkillsNetwork-PY0101EN-SkillsNetwork/labs/Module%203/images/ClassesCircle.png\" width=\"600\">"
   ]
  },
  {
   "cell_type": "markdown",
   "id": "0707f8bb-1ad7-41b7-a8f6-63bea83466b5",
   "metadata": {},
   "source": [
    "*Figure 5: Labeled syntax of the object circle.*"
   ]
  },
  {
   "cell_type": "markdown",
   "id": "10c34252-2cbd-4207-a848-dbfb7e0f2c28",
   "metadata": {},
   "source": [
    "The actual object is shown below. We include the method drawCircle to display the image of a circle. We set the default radius to 3 and the default colour to blue:"
   ]
  },
  {
   "cell_type": "code",
   "execution_count": 46,
   "id": "cc1e265e-21d4-453f-a04e-26b8b22fa9d9",
   "metadata": {},
   "outputs": [],
   "source": [
    "# Create a class Circle\n",
    "\n",
    "class Circle(object):\n",
    "    \n",
    "    # Constructor\n",
    "    def __init__(self, radius=3, color='blue'):\n",
    "        self.radius = radius\n",
    "        self.color = color \n",
    "    \n",
    "    # Method\n",
    "    def add_radius(self, r):\n",
    "        self.radius = self.radius + r\n",
    "        return(self.radius)\n",
    "    \n",
    "    # Method\n",
    "    def drawCircle(self):\n",
    "        plt.gca().add_patch(plt.Circle((0, 0), radius=self.radius, fc=self.color))\n",
    "        plt.axis('scaled')\n",
    "        plt.show  "
   ]
  },
  {
   "cell_type": "code",
   "execution_count": null,
   "id": "7674f1be-64dc-4409-9e36-6600c3d68a9b",
   "metadata": {},
   "outputs": [],
   "source": []
  },
  {
   "cell_type": "markdown",
   "id": "484fcb87-9a2e-4b70-b1db-04239e9e8ca9",
   "metadata": {},
   "source": [
    "##### Creating an instance of a class Circle"
   ]
  },
  {
   "cell_type": "markdown",
   "id": "24461bb9-c0d0-4f1b-859b-ab593e0140bd",
   "metadata": {},
   "source": [
    "Let’s create the object RedCircle of type Circle to do the following:"
   ]
  },
  {
   "cell_type": "code",
   "execution_count": 7,
   "id": "a6119ec1-e1f8-43e2-9226-a39e2f2fefb2",
   "metadata": {},
   "outputs": [],
   "source": [
    "%matplotlib inline"
   ]
  },
  {
   "cell_type": "code",
   "execution_count": 8,
   "id": "a8e5c6df-ca97-4c07-8b2f-e24fb3281de3",
   "metadata": {},
   "outputs": [
    {
     "data": {
      "text/plain": [
       "<__main__.Circle at 0x165b1c218d0>"
      ]
     },
     "execution_count": 8,
     "metadata": {},
     "output_type": "execute_result"
    }
   ],
   "source": [
    "# Create an object RedCircle\n",
    "\n",
    "RedCircle = Circle(10, 'red')\n",
    "RedCircle"
   ]
  },
  {
   "cell_type": "markdown",
   "id": "ea1632fe-8fa6-43a5-9315-c170b539af16",
   "metadata": {},
   "source": [
    "We can use the dir command to get a list of the object's methods. Many of them are default Python methods."
   ]
  },
  {
   "cell_type": "code",
   "execution_count": 9,
   "id": "48984e6f-1f47-42d8-af11-ac366c74a133",
   "metadata": {},
   "outputs": [
    {
     "data": {
      "text/plain": [
       "['__class__',\n",
       " '__delattr__',\n",
       " '__dict__',\n",
       " '__dir__',\n",
       " '__doc__',\n",
       " '__eq__',\n",
       " '__format__',\n",
       " '__ge__',\n",
       " '__getattribute__',\n",
       " '__getstate__',\n",
       " '__gt__',\n",
       " '__hash__',\n",
       " '__init__',\n",
       " '__init_subclass__',\n",
       " '__le__',\n",
       " '__lt__',\n",
       " '__module__',\n",
       " '__ne__',\n",
       " '__new__',\n",
       " '__reduce__',\n",
       " '__reduce_ex__',\n",
       " '__repr__',\n",
       " '__setattr__',\n",
       " '__sizeof__',\n",
       " '__str__',\n",
       " '__subclasshook__',\n",
       " '__weakref__',\n",
       " 'add_radius',\n",
       " 'color',\n",
       " 'drawCircle',\n",
       " 'radius']"
      ]
     },
     "execution_count": 9,
     "metadata": {},
     "output_type": "execute_result"
    }
   ],
   "source": [
    "# Find out the methods can be used on the object RedCircle\n",
    "\n",
    "dir(RedCircle)"
   ]
  },
  {
   "cell_type": "markdown",
   "id": "705ca003-f08a-429d-bdb4-2e1d3733919f",
   "metadata": {},
   "source": [
    "We can look at the data attributes of the object:"
   ]
  },
  {
   "cell_type": "code",
   "execution_count": 10,
   "id": "f25471d5-6e58-4b48-afd4-7f139448cd92",
   "metadata": {},
   "outputs": [
    {
     "data": {
      "text/plain": [
       "10"
      ]
     },
     "execution_count": 10,
     "metadata": {},
     "output_type": "execute_result"
    }
   ],
   "source": [
    "# Print the object attribute radius\n",
    "\n",
    "RedCircle.radius"
   ]
  },
  {
   "cell_type": "code",
   "execution_count": 11,
   "id": "95191caf-756d-4698-9758-6e057e68c4c2",
   "metadata": {},
   "outputs": [
    {
     "data": {
      "text/plain": [
       "'red'"
      ]
     },
     "execution_count": 11,
     "metadata": {},
     "output_type": "execute_result"
    }
   ],
   "source": [
    "# Print the object attribute color\n",
    "\n",
    "RedCircle.color"
   ]
  },
  {
   "cell_type": "markdown",
   "id": "fd88bc1d-ad29-4d14-a34d-f8337c6419e2",
   "metadata": {},
   "source": [
    "We can change the object's data attributes:"
   ]
  },
  {
   "cell_type": "code",
   "execution_count": 12,
   "id": "7ff76764-80e0-4dfa-b422-59e4c0f7dd26",
   "metadata": {},
   "outputs": [
    {
     "data": {
      "text/plain": [
       "1"
      ]
     },
     "execution_count": 12,
     "metadata": {},
     "output_type": "execute_result"
    }
   ],
   "source": [
    "# Set the object attribute radius\n",
    "\n",
    "RedCircle.radius = 1\n",
    "RedCircle.radius"
   ]
  },
  {
   "cell_type": "markdown",
   "id": "4c84e182-14b1-4256-b843-3a2227f5b7ba",
   "metadata": {},
   "source": [
    "We can draw the object by using the method drawCircle():"
   ]
  },
  {
   "cell_type": "code",
   "execution_count": 43,
   "id": "d857dded-f363-4895-b56b-98134a32f1cb",
   "metadata": {},
   "outputs": [
    {
     "ename": "NameError",
     "evalue": "name 'plt' is not defined",
     "output_type": "error",
     "traceback": [
      "\u001b[1;31m---------------------------------------------------------------------------\u001b[0m",
      "\u001b[1;31mNameError\u001b[0m                                 Traceback (most recent call last)",
      "Cell \u001b[1;32mIn[43], line 3\u001b[0m\n\u001b[0;32m      1\u001b[0m \u001b[38;5;66;03m# Call the method drawCircle\u001b[39;00m\n\u001b[1;32m----> 3\u001b[0m RedCircle\u001b[38;5;241m.\u001b[39mdrawCircle()\n\u001b[0;32m      4\u001b[0m drawCircle\n",
      "Cell \u001b[1;32mIn[4], line 17\u001b[0m, in \u001b[0;36mCircle.drawCircle\u001b[1;34m(self)\u001b[0m\n\u001b[0;32m     16\u001b[0m \u001b[38;5;28;01mdef\u001b[39;00m \u001b[38;5;21mdrawCircle\u001b[39m(\u001b[38;5;28mself\u001b[39m):\n\u001b[1;32m---> 17\u001b[0m     plt\u001b[38;5;241m.\u001b[39mgca()\u001b[38;5;241m.\u001b[39madd_patch(plt\u001b[38;5;241m.\u001b[39mCircle((\u001b[38;5;241m0\u001b[39m, \u001b[38;5;241m0\u001b[39m), radius\u001b[38;5;241m=\u001b[39m\u001b[38;5;28mself\u001b[39m\u001b[38;5;241m.\u001b[39mradius, fc\u001b[38;5;241m=\u001b[39m\u001b[38;5;28mself\u001b[39m\u001b[38;5;241m.\u001b[39mcolor))\n\u001b[0;32m     18\u001b[0m     plt\u001b[38;5;241m.\u001b[39maxis(\u001b[38;5;124m'\u001b[39m\u001b[38;5;124mscaled\u001b[39m\u001b[38;5;124m'\u001b[39m)\n\u001b[0;32m     19\u001b[0m     plt\u001b[38;5;241m.\u001b[39mshow()\n",
      "\u001b[1;31mNameError\u001b[0m: name 'plt' is not defined"
     ]
    }
   ],
   "source": [
    "# Call the method drawCircle\n",
    "\n",
    "RedCircle.drawCircle()\n",
    "drawCircle"
   ]
  },
  {
   "cell_type": "markdown",
   "id": "39e9251b-dec3-404e-9422-13b1524d3a45",
   "metadata": {},
   "source": [
    "We can increase the radius of the circle by applying the method add_radius(). Let's increases the radius by 2 and then by 5:"
   ]
  },
  {
   "cell_type": "code",
   "execution_count": null,
   "id": "2d676173-db9e-4a65-866b-9395c40471f7",
   "metadata": {},
   "outputs": [],
   "source": [
    "# Use method to change the object attribute radius\n",
    "\n",
    "print('Radius of object:',RedCircle.radius)\n",
    "RedCircle.add_radius(2)\n",
    "print('Radius of object of after applying the method add_radius(2):',RedCircle.radius)\n",
    "RedCircle.add_radius(5)\n",
    "print('Radius of object of after applying the method add_radius(5):',RedCircle.radius)"
   ]
  },
  {
   "cell_type": "markdown",
   "id": "c3b1ca81-7bfb-4a2e-8489-12a536f93b9f",
   "metadata": {},
   "source": [
    "Let’s create a blue circle. As the default colour is blue, all we have to do is specify what the radius is:"
   ]
  },
  {
   "cell_type": "code",
   "execution_count": null,
   "id": "4b494458-1e60-4a5f-a028-696976df77a1",
   "metadata": {},
   "outputs": [],
   "source": [
    "# Create a blue circle with a given radius\n",
    "\n",
    "BlueCircle = Circle(radius=100)"
   ]
  },
  {
   "cell_type": "markdown",
   "id": "374f3360-4504-4639-9f05-7bcf62ef0527",
   "metadata": {},
   "source": [
    "As before, we can access the attributes of the instance of the class by using the dot notation:\n",
    "\n"
   ]
  },
  {
   "cell_type": "code",
   "execution_count": null,
   "id": "20b1c95e-e5a5-4866-adae-7f6b8ef069ec",
   "metadata": {},
   "outputs": [],
   "source": [
    "# Print the object attribute radius\n",
    "\n",
    "BlueCircle.radius"
   ]
  },
  {
   "cell_type": "code",
   "execution_count": null,
   "id": "c365017e-3a74-4975-bd8f-3ea52e1811d9",
   "metadata": {},
   "outputs": [],
   "source": [
    "# Print the object attribute color\n",
    "\n",
    "BlueCircle.color"
   ]
  },
  {
   "cell_type": "markdown",
   "id": "f1fd5e62-5218-4d8e-bf45-7744b9f1d9bb",
   "metadata": {},
   "source": [
    "We can draw the object by using the method drawCircle():"
   ]
  },
  {
   "cell_type": "code",
   "execution_count": null,
   "id": "f4dde4c7-83da-4099-a6d9-d5b1a20e3676",
   "metadata": {},
   "outputs": [],
   "source": [
    "# Call the method drawCircle\n",
    "\n",
    "BlueCircle.drawCircle()"
   ]
  },
  {
   "cell_type": "markdown",
   "id": "2126142a-9b5f-425a-b60a-902bee8daebe",
   "metadata": {},
   "source": [
    "Compare the x and y axis of the figure to the figure for RedCircle; they are different."
   ]
  },
  {
   "cell_type": "markdown",
   "id": "aba48ce1-53fb-40c4-853f-68da9fcf22e2",
   "metadata": {},
   "source": [
    "#### The Rectangle Class"
   ]
  },
  {
   "cell_type": "markdown",
   "id": "09440062-b54d-46c7-9ca7-d4cb31dc0788",
   "metadata": {},
   "source": [
    "Let's create a class rectangle with the attributes of height, width, and color. We will only add the method to draw the rectangle object:"
   ]
  },
  {
   "cell_type": "code",
   "execution_count": 17,
   "id": "3645adca-57de-49d8-aca5-4c4c6b9c55c1",
   "metadata": {},
   "outputs": [],
   "source": [
    "# Create a new Rectangle class for creating a rectangle object\n",
    "\n",
    "class Rectangle(object):\n",
    "    \n",
    "    # Constructor\n",
    "    def __init__(self, width=2, height=3, color='r'):\n",
    "        self.height = height \n",
    "        self.width = width\n",
    "        self.color = color\n",
    "    \n",
    "    # Method\n",
    "    def drawRectangle(self):\n",
    "        plt.gca().add_patch(plt.Rectangle((0, 0), self.width, self.height ,fc=self.color))\n",
    "        plt.axis('scaled')\n",
    "        plt.show()"
   ]
  },
  {
   "cell_type": "code",
   "execution_count": 47,
   "id": "1b4b7a7a-905b-49a6-bf4b-9e395986a428",
   "metadata": {},
   "outputs": [],
   "source": [
    "%matplotlib inline"
   ]
  },
  {
   "cell_type": "raw",
   "id": "061ddc2d-e90a-457c-aaaa-bde4e6633837",
   "metadata": {},
   "source": [
    "plt.plot([1,2,3],[4,5,6])"
   ]
  },
  {
   "cell_type": "code",
   "execution_count": 24,
   "id": "65c37414-5a10-42b1-9c05-08f224944625",
   "metadata": {},
   "outputs": [
    {
     "name": "stdout",
     "output_type": "stream",
     "text": [
      "Go\n",
      "Mike\n"
     ]
    }
   ],
   "source": [
    "x = \"Go\" \n",
    "if x == \"Go\": \n",
    "    print('Go') \n",
    "else: \n",
    "    print('Stop') \n",
    "print('Mike')"
   ]
  },
  {
   "cell_type": "code",
   "execution_count": 2,
   "id": "f1fadb07-202e-4902-852f-4b465cea1e40",
   "metadata": {},
   "outputs": [
    {
     "name": "stdout",
     "output_type": "stream",
     "text": [
      "Stop\n",
      "Mike\n"
     ]
    }
   ],
   "source": [
    "x = \"Gone\" \n",
    "if x == \"Go\": \n",
    "    print('Go') \n",
    "else: \n",
    "    print('Stop') \n",
    "print('Mike')"
   ]
  },
  {
   "cell_type": "code",
   "execution_count": 4,
   "id": "bd44e37d-bfcf-42bb-89a2-ac8fb757e949",
   "metadata": {},
   "outputs": [
    {
     "data": {
      "text/plain": [
       "True"
      ]
     },
     "execution_count": 4,
     "metadata": {},
     "output_type": "execute_result"
    }
   ],
   "source": [
    "x = 1 \n",
    "x = x > -5\n",
    "x"
   ]
  },
  {
   "cell_type": "code",
   "execution_count": 5,
   "id": "1f4fe7b3-d0bd-40a7-98b1-dc576797a135",
   "metadata": {},
   "outputs": [
    {
     "name": "stdout",
     "output_type": "stream",
     "text": [
      "5\n",
      "4\n",
      "3\n"
     ]
    }
   ],
   "source": [
    "x = 5 \n",
    "while x != 2: \n",
    "    print(x) \n",
    "    x = x - 1 "
   ]
  },
  {
   "cell_type": "code",
   "execution_count": 1,
   "id": "da9ef9d6-31df-4cd4-a521-4efa3c397aed",
   "metadata": {},
   "outputs": [
    {
     "name": "stdout",
     "output_type": "stream",
     "text": [
      "x= 1  y= 2\n"
     ]
    }
   ],
   "source": [
    "class Points(object): \n",
    "    def __init__(self, x, y): \n",
    "        self.x = x \n",
    "        self.y = y \n",
    "    def print_point(self): \n",
    "        print('x=', self.x, ' y=', self.y) \n",
    "\n",
    "\n",
    "p1 = Points(1, 2) \n",
    "p1.print_point()"
   ]
  },
  {
   "cell_type": "code",
   "execution_count": 18,
   "id": "aa140543-59af-45c2-907e-c2107d5e8d61",
   "metadata": {},
   "outputs": [
    {
     "name": "stdout",
     "output_type": "stream",
     "text": [
      "0\n",
      "1\n"
     ]
    }
   ],
   "source": [
    "x = 0 \n",
    "while x < 2: \n",
    "    print(x) \n",
    "    x = x + 1"
   ]
  },
  {
   "cell_type": "code",
   "execution_count": 6,
   "id": "1cdb7e02-2a1a-457e-8b25-ccdbcf538c77",
   "metadata": {},
   "outputs": [
    {
     "name": "stdout",
     "output_type": "stream",
     "text": [
      "1 A\n",
      "2 B\n",
      "3 C\n"
     ]
    }
   ],
   "source": [
    "for i, x in enumerate(['A', 'B', 'C']): \n",
    "    print(i + 1, x)"
   ]
  },
  {
   "cell_type": "code",
   "execution_count": 7,
   "id": "203c07f3-e9e4-40ed-bda2-f74230b5a755",
   "metadata": {},
   "outputs": [
    {
     "name": "stdout",
     "output_type": "stream",
     "text": [
      "x= A  y= 2\n"
     ]
    }
   ],
   "source": [
    "class Points(object): \n",
    "    def __init__(self, x, y): \n",
    "        self.x = x \n",
    "        self.y = y \n",
    "    def print_point(self): \n",
    "        print('x=', self.x, ' y=', self.y) \n",
    "\n",
    "\n",
    "p2 = Points(1, 2) \n",
    "p2.x = 'A' \n",
    "p2.print_point()"
   ]
  },
  {
   "cell_type": "code",
   "execution_count": 22,
   "id": "a1ae67c9-2219-4137-9c42-37eec61cc0d3",
   "metadata": {},
   "outputs": [
    {
     "name": "stdout",
     "output_type": "stream",
     "text": [
      "x= 2  y= 2\n"
     ]
    }
   ],
   "source": [
    "class Points(object): \n",
    "    def __init__(self, x, y): \n",
    "        self.x = x \n",
    "        self.y = y \n",
    "    def print_point(self): \n",
    "        print('x=', self.x, ' y=', self.y) \n",
    "\n",
    "\n",
    "p2 = Points(1, 2) \n",
    "p2.x = 2 \n",
    "p2.print_point()"
   ]
  },
  {
   "cell_type": "code",
   "execution_count": 35,
   "id": "2c3d576d-c897-43ff-87f9-3ca2caf3f7f5",
   "metadata": {},
   "outputs": [],
   "source": [
    "# x is greater than 0\n",
    "def step(x): \n",
    "    if x > 0: \n",
    "        y = 1 \n",
    "    else: \n",
    "        y = 0 \n",
    "    return y"
   ]
  },
  {
   "cell_type": "code",
   "execution_count": 37,
   "id": "b6e2121c-ec77-4b52-8b12-8e53c8924f67",
   "metadata": {},
   "outputs": [],
   "source": [
    "# when will the following function return a value of 1? When x/the input is 0\n",
    "def delta(x): \n",
    "    if x == 0: \n",
    "        y = 1 \n",
    "    else: \n",
    "        y = 0 \n",
    "    return y"
   ]
  },
  {
   "cell_type": "code",
   "execution_count": 38,
   "id": "26bab2e0-8e90-4a9f-ba50-f54de351850a",
   "metadata": {},
   "outputs": [
    {
     "name": "stdout",
     "output_type": "stream",
     "text": [
      "2\n"
     ]
    }
   ],
   "source": [
    "a = 1 \n",
    "\n",
    "\n",
    "def do(x): \n",
    "    return x + a \n",
    "\n",
    "\n",
    "print(do(1))"
   ]
  },
  {
   "cell_type": "code",
   "execution_count": 11,
   "id": "de6c3eb0-4c47-4b2f-ad8c-dffeafbe86a9",
   "metadata": {},
   "outputs": [
    {
     "name": "stdout",
     "output_type": "stream",
     "text": [
      "2\n"
     ]
    }
   ],
   "source": [
    "a = 1 \n",
    "\n",
    "\n",
    "def do(x): \n",
    "    return x + a \n",
    "\n",
    "\n",
    "print(do(1))"
   ]
  },
  {
   "cell_type": "code",
   "execution_count": 30,
   "id": "0494e15e-28c5-4b50-8811-814c2623416b",
   "metadata": {},
   "outputs": [
    {
     "name": "stdout",
     "output_type": "stream",
     "text": [
      "0 AA\n",
      "1 BB\n",
      "2 CC\n"
     ]
    }
   ],
   "source": [
    "for i, x in enumerate(['A', 'B', 'C']): \n",
    "    print(i, 2 * x)"
   ]
  },
  {
   "cell_type": "code",
   "execution_count": 39,
   "id": "9fdbaaee-6df6-4b0d-8f73-6cb325d09e00",
   "metadata": {},
   "outputs": [
    {
     "name": "stdout",
     "output_type": "stream",
     "text": [
      "Error: Denominator cannot be 0.\n"
     ]
    }
   ],
   "source": [
    "try:\n",
    "    numerator = 10\n",
    "    denominator = 0\n",
    "    result = numerator / denominator\n",
    "    print(result)\n",
    "except ZeroDivisionError:\n",
    "    print(\"Error: Denominator cannot be 0.\")"
   ]
  },
  {
   "cell_type": "code",
   "execution_count": 6,
   "id": "0b9ae4e0-35bc-4233-85df-a389307efe34",
   "metadata": {},
   "outputs": [
    {
     "data": {
      "text/plain": [
       "'First line.\\nSecond line.'"
      ]
     },
     "execution_count": 6,
     "metadata": {},
     "output_type": "execute_result"
    }
   ],
   "source": [
    "s = 'First line.\\nSecond line.' # without print(), special characters are included in the string\n",
    "s"
   ]
  },
  {
   "cell_type": "code",
   "execution_count": 7,
   "id": "7b6b1712-a0cf-4cec-91a0-a0eca1af7d52",
   "metadata": {},
   "outputs": [
    {
     "name": "stdout",
     "output_type": "stream",
     "text": [
      "First line.\n",
      "Second line.\n"
     ]
    }
   ],
   "source": [
    "s = 'First line.\\nSecond line.' # with print(), special characters are interpreted, so \\n produces new line\n",
    "print(s)"
   ]
  },
  {
   "cell_type": "code",
   "execution_count": 8,
   "id": "105ab040-4220-4c92-b885-7a19f88ad0a9",
   "metadata": {},
   "outputs": [
    {
     "name": "stdout",
     "output_type": "stream",
     "text": [
      "C:\\some\n",
      "ame\n"
     ]
    }
   ],
   "source": [
    "print('C:\\some\\name') # here \\n means newline!"
   ]
  },
  {
   "cell_type": "code",
   "execution_count": 10,
   "id": "fefb655f-b6dd-4de8-a406-649184e2ed25",
   "metadata": {},
   "outputs": [
    {
     "name": "stdout",
     "output_type": "stream",
     "text": [
      "C:\\some\\name\n"
     ]
    }
   ],
   "source": [
    "# if you don’t want characters prefaced by \\ to be interpreted as special characters, you can use raw strings by adding an r before the first quote:\n",
    "print(r'C:\\some\\name')  # note the r before the quote"
   ]
  },
  {
   "cell_type": "markdown",
   "id": "6563c32a-e9f1-45a7-a625-e31749199b00",
   "metadata": {
    "editable": true,
    "slideshow": {
     "slide_type": ""
    },
    "tags": []
   },
   "source": [
    "String literals can span multiple lines. One way is using triple-quotes: \"\"\"...\"\"\" or '''...'''. End of lines are automatically included in the string, but it’s possible to prevent this by adding a \\ at the end of the line. The following example:"
   ]
  },
  {
   "cell_type": "code",
   "execution_count": 11,
   "id": "00ad26b8-93bb-47e1-8731-c22067c93fe6",
   "metadata": {},
   "outputs": [
    {
     "name": "stdout",
     "output_type": "stream",
     "text": [
      "Usage: thingy [OPTIONS]\n",
      "     -h                        Display this usage message\n",
      "     -H hostname               Hostname to connect to\n",
      "\n"
     ]
    }
   ],
   "source": [
    "print(\"\"\"\\\n",
    "Usage: thingy [OPTIONS]\n",
    "     -h                        Display this usage message\n",
    "     -H hostname               Hostname to connect to\n",
    "\"\"\")"
   ]
  },
  {
   "cell_type": "markdown",
   "id": "94c47dea-bcea-4716-979f-92d1f498454e",
   "metadata": {},
   "source": [
    "When a compound statement is entered interactively, it **must be followed by a blank line** to indicate completion (since the parser cannot guess when you have typed the last line). Note that each line within a basic block must be indented by the same amount."
   ]
  },
  {
   "cell_type": "code",
   "execution_count": 8,
   "id": "e1c3a1e1-68d8-44bf-9c51-28feb2e7c0a5",
   "metadata": {},
   "outputs": [
    {
     "name": "stdout",
     "output_type": "stream",
     "text": [
      "0\n",
      "1\n",
      "1\n",
      "2\n",
      "3\n",
      "5\n"
     ]
    }
   ],
   "source": [
    "# we can use Python for more complicated tasks than adding two and two together. For instance, we can write an initial sub-sequence of the Fibonacci series as follows:\n",
    "# Fibonacci series:\n",
    "# the sum of two elements defines the next\n",
    "a, b = 0, 1\n",
    "while a < 7:\n",
    "    print(a)\n",
    "    a, b = b, a+b"
   ]
  },
  {
   "cell_type": "code",
   "execution_count": 14,
   "id": "57d0daed-6669-4bcd-8c1c-7f5c8352a70c",
   "metadata": {},
   "outputs": [
    {
     "name": "stdout",
     "output_type": "stream",
     "text": [
      "0,1,1,2,3,5,8,13,21,34,55,89,144,233,377,"
     ]
    }
   ],
   "source": [
    "# The keyword argument end can be used to avoid a new line after the output, or end the output with a different string:\n",
    "a, b = 0, 1\n",
    "while a < 500:\n",
    "    print(a, end=',')\n",
    "    a, b = b, a+b"
   ]
  },
  {
   "cell_type": "code",
   "execution_count": 20,
   "id": "37ffcfaf-a624-4d28-96bb-fb4fcd7b38c9",
   "metadata": {},
   "outputs": [
    {
     "data": {
      "text/plain": [
       "-9"
      ]
     },
     "execution_count": 20,
     "metadata": {},
     "output_type": "execute_result"
    }
   ],
   "source": [
    "-3**2"
   ]
  },
  {
   "cell_type": "code",
   "execution_count": 18,
   "id": "39ab6365-044c-4cf5-a4fa-c089b3c56c2c",
   "metadata": {},
   "outputs": [
    {
     "data": {
      "text/plain": [
       "9"
      ]
     },
     "execution_count": 18,
     "metadata": {},
     "output_type": "execute_result"
    }
   ],
   "source": [
    "(-3)**2"
   ]
  },
  {
   "cell_type": "code",
   "execution_count": 23,
   "id": "1adb76e9-7e90-4fe9-81ff-397a74f45fac",
   "metadata": {},
   "outputs": [
    {
     "data": {
      "text/plain": [
       "\"doesn't\""
      ]
     },
     "execution_count": 23,
     "metadata": {},
     "output_type": "execute_result"
    }
   ],
   "source": [
    "'doesn\\'t'  # use \\' to escape the single quote..."
   ]
  },
  {
   "cell_type": "code",
   "execution_count": 24,
   "id": "ae1ff5b1-4676-4c51-99b8-d8d622a70415",
   "metadata": {},
   "outputs": [
    {
     "data": {
      "text/plain": [
       "\"doesn't\""
      ]
     },
     "execution_count": 24,
     "metadata": {},
     "output_type": "execute_result"
    }
   ],
   "source": [
    "\"doesn't\"  # ...or use double quotes instead"
   ]
  },
  {
   "cell_type": "code",
   "execution_count": 31,
   "id": "9deca3fb-d963-4a20-81aa-daa6a92e520a",
   "metadata": {},
   "outputs": [
    {
     "data": {
      "text/plain": [
       "'\"Isn\\'t,\" they said.'"
      ]
     },
     "execution_count": 31,
     "metadata": {},
     "output_type": "execute_result"
    }
   ],
   "source": [
    "'\"Isn\\'t,\" they said.'"
   ]
  },
  {
   "cell_type": "code",
   "execution_count": 39,
   "id": "7c5950d2-8af4-41d8-a671-2bf87fdb977c",
   "metadata": {},
   "outputs": [
    {
     "data": {
      "text/plain": [
       "(\"Isn't\", 'they said.')"
      ]
     },
     "execution_count": 39,
     "metadata": {},
     "output_type": "execute_result"
    }
   ],
   "source": [
    "\"Isn't\",\"they said.\""
   ]
  },
  {
   "cell_type": "code",
   "execution_count": 28,
   "id": "2ea8b8e0-76ae-417d-ade7-facd17e7d8b1",
   "metadata": {},
   "outputs": [
    {
     "data": {
      "text/plain": [
       "'\"Yes,\" they said.'"
      ]
     },
     "execution_count": 28,
     "metadata": {},
     "output_type": "execute_result"
    }
   ],
   "source": [
    "'\"Yes,\" they said.'"
   ]
  },
  {
   "cell_type": "code",
   "execution_count": 26,
   "id": "3c7be779-707c-4812-9204-a3c76aaf80a2",
   "metadata": {},
   "outputs": [
    {
     "data": {
      "text/plain": [
       "'\"Yes,\" they said.'"
      ]
     },
     "execution_count": 26,
     "metadata": {},
     "output_type": "execute_result"
    }
   ],
   "source": [
    "\"\\\"Yes,\\\" they said.\""
   ]
  },
  {
   "cell_type": "markdown",
   "id": "dfdc63a5-0ea9-48c3-98c4-12020e25d5b2",
   "metadata": {},
   "source": [
    "Strings can be concatenated (glued together) with the + operator, and repeated with *:"
   ]
  },
  {
   "cell_type": "code",
   "execution_count": 40,
   "id": "d13fe300-d6a4-4717-a8f1-a0e591b84146",
   "metadata": {},
   "outputs": [
    {
     "data": {
      "text/plain": [
       "'unununium'"
      ]
     },
     "execution_count": 40,
     "metadata": {},
     "output_type": "execute_result"
    }
   ],
   "source": [
    "# 3 times 'un', followed by 'ium'\n",
    "3 * 'un' + 'ium'"
   ]
  },
  {
   "cell_type": "code",
   "execution_count": 42,
   "id": "0d04ea4c-77dc-4cc1-8d1a-54bb0104ea70",
   "metadata": {},
   "outputs": [
    {
     "data": {
      "text/plain": [
       "'Python'"
      ]
     },
     "execution_count": 42,
     "metadata": {},
     "output_type": "execute_result"
    }
   ],
   "source": [
    "# Two or more string literals (i.e. the ones enclosed between quotes) next to each other are automatically concatenated.\n",
    "'Py' 'thon'"
   ]
  },
  {
   "cell_type": "code",
   "execution_count": 43,
   "id": "2ee09222-1af4-4632-8c0c-9e8234725238",
   "metadata": {},
   "outputs": [
    {
     "data": {
      "text/plain": [
       "'Put several strings within parentheses to have them joined together.'"
      ]
     },
     "execution_count": 43,
     "metadata": {},
     "output_type": "execute_result"
    }
   ],
   "source": [
    "# This feature is particularly useful when you want to break long strings:\n",
    "text = ('Put several strings within parentheses '\n",
    "        'to have them joined together.')\n",
    "text"
   ]
  },
  {
   "cell_type": "code",
   "execution_count": 44,
   "id": "db0a95b0-b700-49d4-b1cb-c47d229f0368",
   "metadata": {},
   "outputs": [
    {
     "ename": "SyntaxError",
     "evalue": "invalid syntax (1584773029.py, line 3)",
     "output_type": "error",
     "traceback": [
      "\u001b[1;36m  Cell \u001b[1;32mIn[44], line 3\u001b[1;36m\u001b[0m\n\u001b[1;33m    prefix 'thon'  # can't concatenate a variable and a string literal\u001b[0m\n\u001b[1;37m           ^\u001b[0m\n\u001b[1;31mSyntaxError\u001b[0m\u001b[1;31m:\u001b[0m invalid syntax\n"
     ]
    }
   ],
   "source": [
    "# This only works with two literals though, not with variables or expressions\n",
    "prefix = 'Py'\n",
    "prefix 'thon'  # can't concatenate a variable and a string literal\n",
    "  File \"<stdin>\", line 1\n",
    "    prefix 'thon'"
   ]
  },
  {
   "cell_type": "code",
   "execution_count": 46,
   "id": "e5665e02-aded-4917-aff4-7e39efe077db",
   "metadata": {},
   "outputs": [
    {
     "data": {
      "text/plain": [
       "'Python'"
      ]
     },
     "execution_count": 46,
     "metadata": {},
     "output_type": "execute_result"
    }
   ],
   "source": [
    "# If you want to concatenate variables or a variable and a literal, use +:\n",
    "prefix = 'Py'\n",
    "prefix + 'thon'"
   ]
  },
  {
   "cell_type": "code",
   "execution_count": 4,
   "id": "5da7b1a5-e1de-472b-8112-5efad04fcf1b",
   "metadata": {},
   "outputs": [
    {
     "name": "stdout",
     "output_type": "stream",
     "text": [
      "5\n",
      "4\n",
      "3\n"
     ]
    }
   ],
   "source": [
    "x = 5 \n",
    "while x != 2: \n",
    "    print(x) \n",
    "    x = x - 1 "
   ]
  },
  {
   "cell_type": "code",
   "execution_count": 5,
   "id": "1788d163-afaf-4c62-a74f-eec9c26b14e8",
   "metadata": {},
   "outputs": [
    {
     "name": "stdout",
     "output_type": "stream",
     "text": [
      "x= A  y= B\n"
     ]
    }
   ],
   "source": [
    "class Points(object):\n",
    "    def __init__(self, x, y):\n",
    "        self.x = x \n",
    "        self.y = y \n",
    "\n",
    "\n",
    "    def print_point(self): \n",
    "        print('x=', self.x, ' y=', self.y) \n",
    "\n",
    "\n",
    "p1 = Points(\"A\", \"B\") \n",
    "p1.print_point()"
   ]
  },
  {
   "cell_type": "code",
   "execution_count": 11,
   "id": "04e29f4e-4ecd-4b69-863c-dc28d937acf2",
   "metadata": {},
   "outputs": [
    {
     "name": "stdout",
     "output_type": "stream",
     "text": [
      "x= 2  y= 2\n"
     ]
    }
   ],
   "source": [
    "class Points(object): \n",
    "    def __init__(self, x, y): \n",
    "        self.x = x \n",
    "        self.y = y \n",
    "    def print_point(self): \n",
    "        print('x=', self.x, ' y=', self.y) \n",
    "\n",
    "\n",
    "p2 = Points(1, 2) \n",
    "p2.x = 2 \n",
    "p2.print_point()"
   ]
  },
  {
   "cell_type": "code",
   "execution_count": 14,
   "id": "cb46ef4d-d6b2-491c-bedd-8c39cd8791e0",
   "metadata": {},
   "outputs": [
    {
     "name": "stdout",
     "output_type": "stream",
     "text": [
      "2\n"
     ]
    }
   ],
   "source": [
    "a = 1 \n",
    "\n",
    "\n",
    "def do(x): \n",
    "    return x + a \n",
    "\n",
    "\n",
    "print(do(1))\n"
   ]
  },
  {
   "cell_type": "code",
   "execution_count": 1,
   "id": "2070d49e-b3b9-4b62-85b5-9632a7d1448c",
   "metadata": {},
   "outputs": [
    {
     "data": {
      "text/plain": [
       "-2"
      ]
     },
     "execution_count": 1,
     "metadata": {},
     "output_type": "execute_result"
    }
   ],
   "source": [
    "-2"
   ]
  },
  {
   "cell_type": "code",
   "execution_count": 2,
   "id": "11548431-a35d-40f0-9d4d-db38514befe4",
   "metadata": {},
   "outputs": [
    {
     "data": {
      "text/plain": [
       "4"
      ]
     },
     "execution_count": 2,
     "metadata": {},
     "output_type": "execute_result"
    }
   ],
   "source": [
    "2++2"
   ]
  },
  {
   "cell_type": "code",
   "execution_count": null,
   "id": "c02cc803-ec5a-44a8-9026-f929a56182b9",
   "metadata": {},
   "outputs": [],
   "source": []
  }
 ],
 "metadata": {
  "kernelspec": {
   "display_name": "Python 3 (ipykernel)",
   "language": "python",
   "name": "python3"
  },
  "language_info": {
   "codemirror_mode": {
    "name": "ipython",
    "version": 3
   },
   "file_extension": ".py",
   "mimetype": "text/x-python",
   "name": "python",
   "nbconvert_exporter": "python",
   "pygments_lexer": "ipython3",
   "version": "3.11.9"
  }
 },
 "nbformat": 4,
 "nbformat_minor": 5
}
