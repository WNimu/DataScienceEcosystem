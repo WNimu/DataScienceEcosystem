{
 "cells": [
  {
   "cell_type": "markdown",
   "id": "2d65f4f8-cbf0-48a9-820f-585608e75d14",
   "metadata": {},
   "source": [
    "# Data Science Tools and Ecosystem"
   ]
  },
  {
   "cell_type": "markdown",
   "id": "2314fb2d-6fb9-4c5b-b6c5-9b6c4e9a5299",
   "metadata": {},
   "source": [
    "In this notebook, I present my first data science graded project."
   ]
  },
  {
   "cell_type": "markdown",
   "id": "e5b8271f-b5ba-4650-bc8c-903b168c663e",
   "metadata": {},
   "source": [
    "# Objectives:\n",
    "* Use Markup Cells and Code Cells\n",
    "* List popular languages for Data Science\n",
    "* Create ordered and unordered lists\n",
    "* Create a table\n",
    "* Perform simple arithmetic expressions\n",
    "* List some of the libraries commonly used by Data Scientists"
   ]
  },
  {
   "cell_type": "markdown",
   "id": "1b912558-fbb9-48d0-a69a-fe1870c5d5fd",
   "metadata": {},
   "source": [
    "An ordered list of some popular Data Science languages:\n",
    "1. Python\n",
    "2. R\n",
    "3. SQL\n",
    "4. Java\n",
    "5. C++\n",
    "   \r\n"
   ]
  },
  {
   "cell_type": "markdown",
   "id": "29276d59-afca-4327-bb3c-48656291ae9f",
   "metadata": {},
   "source": [
    "Some of the libraries commonly used by Data Scientists include:\n",
    "* Pandas\n",
    "* NumPy\n",
    "* SciPy\n",
    "* Matplotlib\n",
    "* TensorFlow"
   ]
  },
  {
   "cell_type": "markdown",
   "id": "76ce84b6-d1cf-48be-ae5b-d591fd805a0b",
   "metadata": {},
   "source": [
    "|Data Science Tools| \n",
    "|-------|\n",
    "|IBM Watson Studio|\n",
    "|Jupyter Labs|\n",
    "|RStudio|\n"
   ]
  },
  {
   "cell_type": "markdown",
   "id": "6bdc67e6-c28c-402e-a42a-e9630ccc7459",
   "metadata": {},
   "source": [
    "### Below are a few examples of evaluating arithmetic expressions in Python\n"
   ]
  },
  {
   "cell_type": "code",
   "execution_count": null,
   "id": "c262fd61-4123-467a-ba28-85fdd1a4a90b",
   "metadata": {},
   "outputs": [],
   "source": []
  },
  {
   "cell_type": "code",
   "execution_count": 18,
   "id": "bce77be6-8959-4602-8118-608d2b0812a6",
   "metadata": {},
   "outputs": [
    {
     "data": {
      "text/plain": [
       "17"
      ]
     },
     "execution_count": 18,
     "metadata": {},
     "output_type": "execute_result"
    }
   ],
   "source": [
    "# *This a simple arithmetic expression to multiply then add integers\n",
    "(3*4)+5"
   ]
  },
  {
   "cell_type": "code",
   "execution_count": 20,
   "id": "2505d5ce-2d6b-41a9-b79b-7da940ca4ebc",
   "metadata": {},
   "outputs": [
    {
     "data": {
      "text/plain": [
       "3.3333333333333335"
      ]
     },
     "execution_count": 20,
     "metadata": {},
     "output_type": "execute_result"
    }
   ],
   "source": [
    "# *This will convert 200 minutes to hours by diving by 60\n",
    "200/60"
   ]
  },
  {
   "cell_type": "markdown",
   "id": "258d3172-0fb4-4792-b15e-aa15f94028ba",
   "metadata": {},
   "source": [
    "## Author\n",
    "WR Mugo"
   ]
  }
 ],
 "metadata": {
  "kernelspec": {
   "display_name": "Python 3 (ipykernel)",
   "language": "python",
   "name": "python3"
  },
  "language_info": {
   "codemirror_mode": {
    "name": "ipython",
    "version": 3
   },
   "file_extension": ".py",
   "mimetype": "text/x-python",
   "name": "python",
   "nbconvert_exporter": "python",
   "pygments_lexer": "ipython3",
   "version": "3.11.7"
  }
 },
 "nbformat": 4,
 "nbformat_minor": 5
}
